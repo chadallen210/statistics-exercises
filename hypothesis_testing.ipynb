{
 "cells": [
  {
   "cell_type": "markdown",
   "metadata": {},
   "source": [
    "## Hypothesis Overview Exercises"
   ]
  },
  {
   "cell_type": "markdown",
   "metadata": {},
   "source": [
    "For each of the following questions, formulate a null and alternative hypothesis (be as specific as you can be), then give an example of what a true positive, true negative, type I and type II errors would look like. Note that some of the questions are intentionally phrased in a vague way. It is your job to reword these as more precise questions that could be tested."
   ]
  },
  {
   "cell_type": "markdown",
   "metadata": {},
   "source": [
    "- Has the network latency gone up since we switched internet service providers?"
   ]
  },
  {
   "cell_type": "markdown",
   "metadata": {},
   "source": [
    "#### Reword the question:\n",
    "Is there a significant difference in network latency between the old ISP and the new ISP?\n",
    "\n",
    "#### Null: \n",
    "There is no significant difference between the old ISP and the new ISP.\n",
    "\n",
    "#### Alternatives:\n",
    "There is a significant decrease in network latency between the old ISP and the new ISP.\n",
    "\n",
    "There is a significant increase in network latency between the old ISP and the new ISP.\n",
    "\n",
    "#### True positive:\n",
    "H0 = False\n",
    "\n",
    "There is a significant difference in network latency between old ISP and new ISP.\n",
    "\n",
    "#### True negative:\n",
    "H0 = True\n",
    "\n",
    "There is no significant difference in network latency between old ISP and new ISP.\n",
    "\n",
    "#### Type I:\n",
    "H0 = True, but data proves H0 = False\n",
    "\n",
    "We state that there is a significant difference in network latency, but data proves there is not a significant difference.\n",
    "\n",
    "\n",
    "#### Type II:\n",
    "H0 = False, but data proves H0 = True\n",
    "\n",
    "We state that there is no significant difference in network latency, but data proves that there is a significant difference."
   ]
  },
  {
   "cell_type": "markdown",
   "metadata": {},
   "source": [
    "- Is the website redesign any good?"
   ]
  },
  {
   "cell_type": "markdown",
   "metadata": {},
   "source": [
    "#### Reword the question:\n",
    "Is there a significant difference in survey results about the website quality between the old design and the new design?\n",
    "\n",
    "#### Null:\n",
    "There is no significant difference in survey results about the website quality between the old design and the new design.\n",
    "\n",
    "#### Alternatives:\n",
    "There is a significant increase in survey results about the website quality between the old design and the new design.\n",
    "\n",
    "There is a significant decrease in survey result about the website quality between the old design and the new design.\n",
    "\n",
    "#### True positive:\n",
    "H0 = False\n",
    "\n",
    "There is a significant difference in survey results about website quality between the old design and the new design.\n",
    "\n",
    "#### True negative:\n",
    "H0 = True\n",
    "\n",
    "There is no significant difference in survey results about website quality between the old design and the new design.\n",
    "\n",
    "#### Type I:\n",
    "H0 = True, but data proves H0 = False\n",
    "\n",
    "We state there is a significant difference, but the data proves that there is not a significant difference.\n",
    "\n",
    "#### Type II:\n",
    "H0 = False, but data proves H0 = True\n",
    "\n",
    "We state that there is no significant difference, but the data proves there is a significant difference."
   ]
  },
  {
   "cell_type": "markdown",
   "metadata": {},
   "source": [
    "- Is our television ad driving more sales?"
   ]
  },
  {
   "cell_type": "markdown",
   "metadata": {},
   "source": [
    "#### Reword the question:\n",
    "Is there a significant difference in sales as a result of the  television ad?\n",
    "\n",
    "#### Null:\n",
    "There is no significant difference in sales as a result of the television ad.\n",
    "\n",
    "#### Alternatives:\n",
    "There is a significant increase in sales as a result of the television ad.\n",
    "\n",
    "There is a significant decrease in sales as a result of the television ad.\n",
    "\n",
    "#### True positive:\n",
    "H0 = False\n",
    "\n",
    "There is a significant difference in sales as a result of the television ad.\n",
    "\n",
    "#### True negative:\n",
    "H0 = True\n",
    "\n",
    "There is no significant difference in sales as a result of the television ad.\n",
    "\n",
    "#### Type I:\n",
    "H0 = True, but the data proves H0 = False\n",
    "\n",
    "We state that there is a significant difference in sales as a result of the television ad, but the data proves that there is not.\n",
    "\n",
    "#### Type II:\n",
    "H0 = False, but the data proves H0 = True\n",
    "\n",
    "We state that there is no significant difference in sales as a result of the television ad, but the data proves that there is."
   ]
  },
  {
   "cell_type": "code",
   "execution_count": null,
   "metadata": {},
   "outputs": [],
   "source": []
  }
 ],
 "metadata": {
  "kernelspec": {
   "display_name": "Python 3",
   "language": "python",
   "name": "python3"
  },
  "language_info": {
   "codemirror_mode": {
    "name": "ipython",
    "version": 3
   },
   "file_extension": ".py",
   "mimetype": "text/x-python",
   "name": "python",
   "nbconvert_exporter": "python",
   "pygments_lexer": "ipython3",
   "version": "3.8.5"
  }
 },
 "nbformat": 4,
 "nbformat_minor": 4
}
