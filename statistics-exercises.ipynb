{
 "cells": [
  {
   "cell_type": "markdown",
   "metadata": {},
   "source": [
    "# Statistics Exercises"
   ]
  },
  {
   "cell_type": "markdown",
   "metadata": {},
   "source": [
    "#### 1. How likely is it that you roll doubles when rolling two dice?"
   ]
  },
  {
   "cell_type": "code",
   "execution_count": 8,
   "metadata": {},
   "outputs": [],
   "source": [
    "import numpy as np\n",
    "import pandas as pd\n",
    "\n",
    "np.random.seed(1234)"
   ]
  },
  {
   "cell_type": "code",
   "execution_count": 75,
   "metadata": {},
   "outputs": [
    {
     "data": {
      "text/plain": [
       "array([[5, 6],\n",
       "       [4, 1],\n",
       "       [5, 6],\n",
       "       ...,\n",
       "       [5, 5],\n",
       "       [4, 5],\n",
       "       [3, 3]])"
      ]
     },
     "execution_count": 75,
     "metadata": {},
     "output_type": "execute_result"
    }
   ],
   "source": [
    "possible_outcomes = [1,2,3,4,5,6]\n",
    "\n",
    "n_dice = n_cols = 2\n",
    "num_trials = n_rows = 10000\n",
    "\n",
    "data1 = np.random.choice(possible_outcomes, num_trials * n_dice).reshape(num_trials, n_dice)\n",
    "data1"
   ]
  },
  {
   "cell_type": "code",
   "execution_count": 76,
   "metadata": {},
   "outputs": [
    {
     "data": {
      "text/plain": [
       "0.1683"
      ]
     },
     "execution_count": 76,
     "metadata": {},
     "output_type": "execute_result"
    }
   ],
   "source": [
    "pd.DataFrame(data1).apply(lambda x: x[0] == x[1] in x.values, axis = 1).mean()"
   ]
  },
  {
   "cell_type": "markdown",
   "metadata": {},
   "source": [
    "#### 2. If you flip 8 coins, what is the probability of getting exactly 3 heads? What is the probability of getting more than 3 heads?"
   ]
  },
  {
   "cell_type": "code",
   "execution_count": 77,
   "metadata": {},
   "outputs": [
    {
     "data": {
      "text/plain": [
       "array([[0, 1, 0, ..., 1, 1, 0],\n",
       "       [0, 0, 1, ..., 0, 0, 0],\n",
       "       [0, 0, 1, ..., 1, 0, 0],\n",
       "       ...,\n",
       "       [1, 0, 1, ..., 1, 1, 1],\n",
       "       [1, 0, 1, ..., 0, 1, 0],\n",
       "       [1, 0, 1, ..., 0, 0, 1]])"
      ]
     },
     "execution_count": 77,
     "metadata": {},
     "output_type": "execute_result"
    }
   ],
   "source": [
    "heads = 1\n",
    "tails = 0\n",
    "outcomes = [0,1]\n",
    "\n",
    "n_trials = n_rows = 10000\n",
    "n_coins = n_cols = 8\n",
    "\n",
    "data2 = np.random.choice(outcomes, n_trials * n_coins).reshape(n_rows, n_cols)\n",
    "data2"
   ]
  },
  {
   "cell_type": "code",
   "execution_count": 78,
   "metadata": {},
   "outputs": [
    {
     "data": {
      "text/plain": [
       "array([4, 2, 3, ..., 5, 5, 5])"
      ]
     },
     "execution_count": 78,
     "metadata": {},
     "output_type": "execute_result"
    }
   ],
   "source": [
    "total_heads = data2.sum(axis = 1)\n",
    "total_heads"
   ]
  },
  {
   "cell_type": "code",
   "execution_count": 79,
   "metadata": {},
   "outputs": [
    {
     "data": {
      "text/plain": [
       "0.219"
      ]
     },
     "execution_count": 79,
     "metadata": {},
     "output_type": "execute_result"
    }
   ],
   "source": [
    "three_heads = (total_heads == 3).mean()\n",
    "three_heads"
   ]
  },
  {
   "cell_type": "code",
   "execution_count": 80,
   "metadata": {},
   "outputs": [
    {
     "data": {
      "text/plain": [
       "0.636"
      ]
     },
     "execution_count": 80,
     "metadata": {},
     "output_type": "execute_result"
    }
   ],
   "source": [
    "more_than_three = (total_heads > 3).mean()\n",
    "more_than_three"
   ]
  },
  {
   "cell_type": "markdown",
   "metadata": {},
   "source": [
    "#### 3. There are approximitely 3 web development cohorts for every 1 data science cohort at Codeup. Assuming that Codeup randomly selects an alumni to put on a billboard, what are the odds that the two billboards I drive past both have data science students on them?"
   ]
  },
  {
   "cell_type": "code",
   "execution_count": 81,
   "metadata": {},
   "outputs": [
    {
     "data": {
      "text/plain": [
       "array([[3, 1],\n",
       "       [3, 3],\n",
       "       [3, 3],\n",
       "       ...,\n",
       "       [3, 3],\n",
       "       [3, 3],\n",
       "       [1, 1]])"
      ]
     },
     "execution_count": 81,
     "metadata": {},
     "output_type": "execute_result"
    }
   ],
   "source": [
    "web = 3\n",
    "data = 1\n",
    "outcomes = [3,1]\n",
    "\n",
    "prob_web = 0.75\n",
    "prob_ds = 1 - prob_web\n",
    "\n",
    "n_trials = n_rows = 10000\n",
    "n_billboards = n_cols = 2\n",
    "\n",
    "data3 = np.random.choice(outcomes, n_trials * n_billboards, p = [prob_web, prob_ds]).reshape(n_rows, n_cols)\n",
    "data3"
   ]
  },
  {
   "cell_type": "code",
   "execution_count": 82,
   "metadata": {},
   "outputs": [
    {
     "data": {
      "text/plain": [
       "array([4, 6, 6, ..., 6, 6, 2])"
      ]
     },
     "execution_count": 82,
     "metadata": {},
     "output_type": "execute_result"
    }
   ],
   "source": [
    "total_alums = data3.sum(axis = 1)\n",
    "total_alums"
   ]
  },
  {
   "cell_type": "code",
   "execution_count": 83,
   "metadata": {},
   "outputs": [
    {
     "data": {
      "text/plain": [
       "0.0656"
      ]
     },
     "execution_count": 83,
     "metadata": {},
     "output_type": "execute_result"
    }
   ],
   "source": [
    "two_ds = (total_alums == 2).mean()\n",
    "two_ds"
   ]
  },
  {
   "cell_type": "markdown",
   "metadata": {},
   "source": [
    "#### 4. Codeup students buy, on average, 3 poptart packages (+- 1.5) a day from the snack vending machine. If on monday the machine is restocked with 17 poptart packages, how likely is it that I will be able to buy some poptarts on Friday afternoon?"
   ]
  },
  {
   "cell_type": "code",
   "execution_count": 84,
   "metadata": {},
   "outputs": [
    {
     "data": {
      "text/plain": [
       "array([[3., 6., 3., 2., 1.],\n",
       "       [1., 1., 2., 5., 5.],\n",
       "       [2., 4., 1., 4., 2.],\n",
       "       ...,\n",
       "       [3., 1., 4., 1., 4.],\n",
       "       [4., 1., 2., 3., 6.],\n",
       "       [2., 3., 3., 4., 1.]])"
      ]
     },
     "execution_count": 84,
     "metadata": {},
     "output_type": "execute_result"
    }
   ],
   "source": [
    "n_trials = n_rows = 10000\n",
    "n_days = n_cols = 5\n",
    "\n",
    "data4 = np.round(np.random.normal(3, 1.5, size = (n_trials, n_days)))\n",
    "data4"
   ]
  },
  {
   "cell_type": "code",
   "execution_count": 85,
   "metadata": {},
   "outputs": [
    {
     "data": {
      "text/plain": [
       "array([15., 14., 13., ..., 13., 16., 13.])"
      ]
     },
     "execution_count": 85,
     "metadata": {},
     "output_type": "execute_result"
    }
   ],
   "source": [
    "total_packs = data4.sum(axis = 1)\n",
    "total_packs"
   ]
  },
  {
   "cell_type": "code",
   "execution_count": 86,
   "metadata": {},
   "outputs": [
    {
     "data": {
      "text/plain": [
       "0.6722"
      ]
     },
     "execution_count": 86,
     "metadata": {},
     "output_type": "execute_result"
    }
   ],
   "source": [
    "poptarts = (total_packs < 17).mean()\n",
    "poptarts"
   ]
  },
  {
   "cell_type": "markdown",
   "metadata": {},
   "source": [
    "#### 5. Compare Heights\n",
    "\n",
    "    - Men have an average height of 178 cm and standard deviation of 8cm.\n",
    "    - Women have a mean of 170, sd = 6cm.\n",
    "    - If a man and woman are chosen at random, P(woman taller than man)?"
   ]
  },
  {
   "cell_type": "code",
   "execution_count": 87,
   "metadata": {},
   "outputs": [
    {
     "data": {
      "text/plain": [
       "array([[190.69220732, 175.9641529 ],\n",
       "       [184.68459948, 172.3926078 ],\n",
       "       [169.36440389, 162.90068267],\n",
       "       ...,\n",
       "       [170.55689378, 167.3219657 ],\n",
       "       [179.00141315, 160.03127155],\n",
       "       [173.814757  , 173.60504601]])"
      ]
     },
     "execution_count": 87,
     "metadata": {},
     "output_type": "execute_result"
    }
   ],
   "source": [
    "n_trials = n_rows = 10000\n",
    "m_and_w = n_cols = 2\n",
    "\n",
    "men_height = np.random.normal(178, 8, n_trials)\n",
    "women_height = np.random.normal(170, 6, n_trials)\n",
    "\n",
    "np.column_stack((men_height, women_height))"
   ]
  },
  {
   "cell_type": "code",
   "execution_count": 88,
   "metadata": {},
   "outputs": [
    {
     "data": {
      "text/plain": [
       "array([14.72805441, 12.29199168,  6.46372122, ...,  3.23492808,\n",
       "       18.97014159,  0.209711  ])"
      ]
     },
     "execution_count": 88,
     "metadata": {},
     "output_type": "execute_result"
    }
   ],
   "source": [
    "height_diff = np.subtract(men_height, women_height)\n",
    "height_diff"
   ]
  },
  {
   "cell_type": "code",
   "execution_count": 89,
   "metadata": {},
   "outputs": [
    {
     "data": {
      "text/plain": [
       "0.2144"
      ]
     },
     "execution_count": 89,
     "metadata": {},
     "output_type": "execute_result"
    }
   ],
   "source": [
    "woman_taller = (height_diff < 0).mean()\n",
    "woman_taller"
   ]
  },
  {
   "cell_type": "markdown",
   "metadata": {},
   "source": [
    "#### 6. When installing anaconda on a student's computer, there's a 1 in 250 chance that the download is corrupted and the installation fails. What are the odds that after having 50 students download anaconda, no one has an installation issue? "
   ]
  },
  {
   "cell_type": "code",
   "execution_count": 90,
   "metadata": {},
   "outputs": [
    {
     "data": {
      "text/plain": [
       "array([[1, 1, 1, ..., 1, 1, 1],\n",
       "       [1, 1, 1, ..., 1, 1, 1],\n",
       "       [1, 1, 1, ..., 1, 1, 1],\n",
       "       ...,\n",
       "       [1, 1, 1, ..., 1, 1, 1],\n",
       "       [1, 1, 1, ..., 1, 1, 1],\n",
       "       [1, 1, 1, ..., 1, 1, 0]])"
      ]
     },
     "execution_count": 90,
     "metadata": {},
     "output_type": "execute_result"
    }
   ],
   "source": [
    "prob_fail = 1/250\n",
    "prob_success = 1 - prob_fail\n",
    "\n",
    "outcomes = [0,1]\n",
    "\n",
    "n_trials = n_rows = 10000\n",
    "n_downloads = n_cols = 50\n",
    "\n",
    "data6 = np.random.choice(outcomes, n_trials * n_downloads, p = [prob_fail, prob_success]).reshape(n_rows, n_cols)\n",
    "data6"
   ]
  },
  {
   "cell_type": "code",
   "execution_count": 93,
   "metadata": {},
   "outputs": [
    {
     "data": {
      "text/plain": [
       "array([50, 50, 50, ..., 50, 48, 49])"
      ]
     },
     "execution_count": 93,
     "metadata": {},
     "output_type": "execute_result"
    }
   ],
   "source": [
    "installs50 = data6.sum(axis = 1)\n",
    "installs50"
   ]
  },
  {
   "cell_type": "code",
   "execution_count": 94,
   "metadata": {},
   "outputs": [
    {
     "data": {
      "text/plain": [
       "0.1806"
      ]
     },
     "execution_count": 94,
     "metadata": {},
     "output_type": "execute_result"
    }
   ],
   "source": [
    "fails50 = (installs50 < 50).mean()\n",
    "fails50"
   ]
  },
  {
   "cell_type": "markdown",
   "metadata": {},
   "source": [
    "#### 100 students?"
   ]
  },
  {
   "cell_type": "code",
   "execution_count": 95,
   "metadata": {},
   "outputs": [
    {
     "data": {
      "text/plain": [
       "array([[1, 1, 1, ..., 1, 1, 1],\n",
       "       [1, 1, 1, ..., 1, 1, 1],\n",
       "       [1, 1, 1, ..., 1, 1, 1],\n",
       "       ...,\n",
       "       [1, 1, 1, ..., 1, 1, 1],\n",
       "       [1, 1, 1, ..., 1, 1, 1],\n",
       "       [1, 1, 1, ..., 1, 1, 1]])"
      ]
     },
     "execution_count": 95,
     "metadata": {},
     "output_type": "execute_result"
    }
   ],
   "source": [
    "prob_fail = 1/250\n",
    "prob_success = 1 - prob_fail\n",
    "\n",
    "outcomes = [0,1]\n",
    "\n",
    "n_trials = n_rows = 10000\n",
    "n_downloads = n_cols = 100\n",
    "\n",
    "data100 = np.random.choice(outcomes, n_trials * n_downloads, p = [prob_fail, prob_success]).reshape(n_rows, n_cols)\n",
    "data100"
   ]
  },
  {
   "cell_type": "code",
   "execution_count": 96,
   "metadata": {},
   "outputs": [
    {
     "data": {
      "text/plain": [
       "array([100, 100, 100, ..., 100,  98, 100])"
      ]
     },
     "execution_count": 96,
     "metadata": {},
     "output_type": "execute_result"
    }
   ],
   "source": [
    "installs100 = data100.sum(axis = 1)\n",
    "installs100"
   ]
  },
  {
   "cell_type": "code",
   "execution_count": 97,
   "metadata": {},
   "outputs": [
    {
     "data": {
      "text/plain": [
       "0.3335"
      ]
     },
     "execution_count": 97,
     "metadata": {},
     "output_type": "execute_result"
    }
   ],
   "source": [
    "fails100 = (installs100 < 100).mean()\n",
    "fails100"
   ]
  },
  {
   "cell_type": "markdown",
   "metadata": {},
   "source": [
    "#### What is the probability that we observe an installation issue within the first 150 students that download anaconda?"
   ]
  },
  {
   "cell_type": "code",
   "execution_count": 98,
   "metadata": {},
   "outputs": [
    {
     "data": {
      "text/plain": [
       "array([[1, 1, 1, ..., 1, 1, 1],\n",
       "       [1, 1, 1, ..., 1, 1, 1],\n",
       "       [1, 1, 1, ..., 1, 1, 1],\n",
       "       ...,\n",
       "       [1, 1, 1, ..., 1, 1, 1],\n",
       "       [1, 1, 1, ..., 1, 1, 1],\n",
       "       [1, 1, 1, ..., 1, 1, 1]])"
      ]
     },
     "execution_count": 98,
     "metadata": {},
     "output_type": "execute_result"
    }
   ],
   "source": [
    "prob_fail = 1/250\n",
    "prob_success = 1 - prob_fail\n",
    "\n",
    "outcomes = [0,1]\n",
    "\n",
    "n_trials = n_rows = 10000\n",
    "n_downloads = n_cols = 150\n",
    "\n",
    "data150 = np.random.choice(outcomes, n_trials * n_downloads, p = [prob_fail, prob_success]).reshape(n_rows, n_cols)\n",
    "data150"
   ]
  },
  {
   "cell_type": "code",
   "execution_count": 99,
   "metadata": {},
   "outputs": [
    {
     "data": {
      "text/plain": [
       "array([150, 149, 149, ..., 150, 150, 150])"
      ]
     },
     "execution_count": 99,
     "metadata": {},
     "output_type": "execute_result"
    }
   ],
   "source": [
    "installs150 = data150.sum(axis = 1)\n",
    "installs150"
   ]
  },
  {
   "cell_type": "code",
   "execution_count": 100,
   "metadata": {},
   "outputs": [
    {
     "data": {
      "text/plain": [
       "0.4507"
      ]
     },
     "execution_count": 100,
     "metadata": {},
     "output_type": "execute_result"
    }
   ],
   "source": [
    "fails150 = (installs150 < 150).mean()\n",
    "fails150"
   ]
  },
  {
   "cell_type": "markdown",
   "metadata": {},
   "source": [
    "#### 7. There's a 70% chance on any given day that there will be at least one food truck at Travis Park. However, you haven't seen a food truck there in 3 days. How unlikely is this?"
   ]
  },
  {
   "cell_type": "code",
   "execution_count": 57,
   "metadata": {},
   "outputs": [
    {
     "data": {
      "text/plain": [
       "array([[0, 1, 1],\n",
       "       [0, 1, 1],\n",
       "       [0, 1, 1],\n",
       "       ...,\n",
       "       [1, 1, 1],\n",
       "       [1, 1, 1],\n",
       "       [0, 1, 1]])"
      ]
     },
     "execution_count": 57,
     "metadata": {},
     "output_type": "execute_result"
    }
   ],
   "source": [
    "truck = 0.7\n",
    "no_truck = 1 - truck\n",
    "\n",
    "outcomes = [1,0]\n",
    "\n",
    "n_trials = n_rows = 10000\n",
    "n_days = n_cols = 3\n",
    "\n",
    "data7 = np.random.choice(outcomes, n_trials * n_days, p = [truck, no_truck]).reshape(n_rows, n_cols)\n",
    "data7"
   ]
  },
  {
   "cell_type": "code",
   "execution_count": 58,
   "metadata": {},
   "outputs": [
    {
     "data": {
      "text/plain": [
       "array([2, 2, 2, ..., 3, 3, 2])"
      ]
     },
     "execution_count": 58,
     "metadata": {},
     "output_type": "execute_result"
    }
   ],
   "source": [
    "truck_totals = data7.sum(axis = 1)\n",
    "truck_totals"
   ]
  },
  {
   "cell_type": "code",
   "execution_count": 103,
   "metadata": {},
   "outputs": [
    {
     "data": {
      "text/plain": [
       "0.0265"
      ]
     },
     "execution_count": 103,
     "metadata": {},
     "output_type": "execute_result"
    }
   ],
   "source": [
    "no_truck_chance = (truck_totals == 0).mean()\n",
    "no_truck_chance"
   ]
  },
  {
   "cell_type": "markdown",
   "metadata": {},
   "source": [
    "#### How likely is it that a food truck will show up sometime this week?"
   ]
  },
  {
   "cell_type": "code",
   "execution_count": 101,
   "metadata": {},
   "outputs": [
    {
     "data": {
      "text/plain": [
       "array([[1, 1, 1, ..., 0, 0, 0],\n",
       "       [1, 0, 1, ..., 1, 1, 1],\n",
       "       [1, 1, 1, ..., 0, 1, 1],\n",
       "       ...,\n",
       "       [0, 0, 1, ..., 1, 1, 1],\n",
       "       [1, 1, 0, ..., 1, 1, 1],\n",
       "       [1, 1, 1, ..., 1, 0, 0]])"
      ]
     },
     "execution_count": 101,
     "metadata": {},
     "output_type": "execute_result"
    }
   ],
   "source": [
    "truck = 0.7\n",
    "no_truck = 1 - truck\n",
    "\n",
    "outcomes = [1,0]\n",
    "\n",
    "n_trials = n_rows = 10000\n",
    "n_days = n_cols = 7\n",
    "\n",
    "data7days = np.random.choice(outcomes, n_trials * n_days, p = [truck, no_truck]).reshape(n_rows, n_cols)\n",
    "data7days"
   ]
  },
  {
   "cell_type": "code",
   "execution_count": 102,
   "metadata": {},
   "outputs": [
    {
     "data": {
      "text/plain": [
       "array([4, 6, 5, ..., 4, 6, 5])"
      ]
     },
     "execution_count": 102,
     "metadata": {},
     "output_type": "execute_result"
    }
   ],
   "source": [
    "truck7days_totals = data7days.sum(axis = 1)\n",
    "truck7days_totals"
   ]
  },
  {
   "cell_type": "code",
   "execution_count": 104,
   "metadata": {},
   "outputs": [
    {
     "data": {
      "text/plain": [
       "0.9735"
      ]
     },
     "execution_count": 104,
     "metadata": {},
     "output_type": "execute_result"
    }
   ],
   "source": [
    "truck7days_chance = (truck_totals > 0).mean()\n",
    "truck7days_chance"
   ]
  },
  {
   "cell_type": "markdown",
   "metadata": {},
   "source": [
    "#### 8. If 23 people are in the same room, what are the odds that two of them share a birthday? "
   ]
  },
  {
   "cell_type": "code",
   "execution_count": 60,
   "metadata": {},
   "outputs": [
    {
     "data": {
      "text/plain": [
       "array([[ 91, 347, 263, ...,  17,  64, 289],\n",
       "       [180, 143, 298, ...,  13, 364, 134],\n",
       "       [ 73, 361,  88, ...,  36,  24, 113],\n",
       "       ...,\n",
       "       [161,  84, 253, ...,  54, 136, 276],\n",
       "       [218, 167,  83, ..., 202, 181, 229],\n",
       "       [281, 115, 340, ..., 149, 327, 146]])"
      ]
     },
     "execution_count": 60,
     "metadata": {},
     "output_type": "execute_result"
    }
   ],
   "source": [
    "bday = range(1,366)\n",
    "\n",
    "n_trials = n_rows = 10000\n",
    "n_people = n_cols = 23\n",
    "\n",
    "data8 = np.random.choice(bday, n_trials * n_people).reshape(n_rows, n_cols)\n",
    "data8"
   ]
  },
  {
   "cell_type": "code",
   "execution_count": 66,
   "metadata": {},
   "outputs": [
    {
     "data": {
      "text/html": [
       "<div>\n",
       "<style scoped>\n",
       "    .dataframe tbody tr th:only-of-type {\n",
       "        vertical-align: middle;\n",
       "    }\n",
       "\n",
       "    .dataframe tbody tr th {\n",
       "        vertical-align: top;\n",
       "    }\n",
       "\n",
       "    .dataframe thead th {\n",
       "        text-align: right;\n",
       "    }\n",
       "</style>\n",
       "<table border=\"1\" class=\"dataframe\">\n",
       "  <thead>\n",
       "    <tr style=\"text-align: right;\">\n",
       "      <th></th>\n",
       "      <th>0</th>\n",
       "      <th>1</th>\n",
       "      <th>2</th>\n",
       "      <th>3</th>\n",
       "      <th>4</th>\n",
       "      <th>5</th>\n",
       "      <th>6</th>\n",
       "      <th>7</th>\n",
       "      <th>8</th>\n",
       "      <th>9</th>\n",
       "      <th>...</th>\n",
       "      <th>13</th>\n",
       "      <th>14</th>\n",
       "      <th>15</th>\n",
       "      <th>16</th>\n",
       "      <th>17</th>\n",
       "      <th>18</th>\n",
       "      <th>19</th>\n",
       "      <th>20</th>\n",
       "      <th>21</th>\n",
       "      <th>22</th>\n",
       "    </tr>\n",
       "  </thead>\n",
       "  <tbody>\n",
       "    <tr>\n",
       "      <th>0</th>\n",
       "      <td>91</td>\n",
       "      <td>347</td>\n",
       "      <td>263</td>\n",
       "      <td>266</td>\n",
       "      <td>324</td>\n",
       "      <td>186</td>\n",
       "      <td>209</td>\n",
       "      <td>349</td>\n",
       "      <td>266</td>\n",
       "      <td>118</td>\n",
       "      <td>...</td>\n",
       "      <td>229</td>\n",
       "      <td>27</td>\n",
       "      <td>27</td>\n",
       "      <td>46</td>\n",
       "      <td>257</td>\n",
       "      <td>246</td>\n",
       "      <td>108</td>\n",
       "      <td>17</td>\n",
       "      <td>64</td>\n",
       "      <td>289</td>\n",
       "    </tr>\n",
       "    <tr>\n",
       "      <th>1</th>\n",
       "      <td>180</td>\n",
       "      <td>143</td>\n",
       "      <td>298</td>\n",
       "      <td>115</td>\n",
       "      <td>110</td>\n",
       "      <td>251</td>\n",
       "      <td>66</td>\n",
       "      <td>86</td>\n",
       "      <td>118</td>\n",
       "      <td>265</td>\n",
       "      <td>...</td>\n",
       "      <td>256</td>\n",
       "      <td>106</td>\n",
       "      <td>246</td>\n",
       "      <td>341</td>\n",
       "      <td>179</td>\n",
       "      <td>273</td>\n",
       "      <td>304</td>\n",
       "      <td>13</td>\n",
       "      <td>364</td>\n",
       "      <td>134</td>\n",
       "    </tr>\n",
       "    <tr>\n",
       "      <th>2</th>\n",
       "      <td>73</td>\n",
       "      <td>361</td>\n",
       "      <td>88</td>\n",
       "      <td>110</td>\n",
       "      <td>240</td>\n",
       "      <td>361</td>\n",
       "      <td>76</td>\n",
       "      <td>131</td>\n",
       "      <td>153</td>\n",
       "      <td>4</td>\n",
       "      <td>...</td>\n",
       "      <td>305</td>\n",
       "      <td>297</td>\n",
       "      <td>36</td>\n",
       "      <td>122</td>\n",
       "      <td>282</td>\n",
       "      <td>67</td>\n",
       "      <td>111</td>\n",
       "      <td>36</td>\n",
       "      <td>24</td>\n",
       "      <td>113</td>\n",
       "    </tr>\n",
       "    <tr>\n",
       "      <th>3</th>\n",
       "      <td>309</td>\n",
       "      <td>224</td>\n",
       "      <td>327</td>\n",
       "      <td>165</td>\n",
       "      <td>321</td>\n",
       "      <td>82</td>\n",
       "      <td>190</td>\n",
       "      <td>138</td>\n",
       "      <td>325</td>\n",
       "      <td>263</td>\n",
       "      <td>...</td>\n",
       "      <td>133</td>\n",
       "      <td>301</td>\n",
       "      <td>296</td>\n",
       "      <td>230</td>\n",
       "      <td>32</td>\n",
       "      <td>292</td>\n",
       "      <td>129</td>\n",
       "      <td>200</td>\n",
       "      <td>263</td>\n",
       "      <td>341</td>\n",
       "    </tr>\n",
       "    <tr>\n",
       "      <th>4</th>\n",
       "      <td>227</td>\n",
       "      <td>289</td>\n",
       "      <td>256</td>\n",
       "      <td>218</td>\n",
       "      <td>299</td>\n",
       "      <td>23</td>\n",
       "      <td>365</td>\n",
       "      <td>41</td>\n",
       "      <td>108</td>\n",
       "      <td>129</td>\n",
       "      <td>...</td>\n",
       "      <td>100</td>\n",
       "      <td>293</td>\n",
       "      <td>338</td>\n",
       "      <td>65</td>\n",
       "      <td>169</td>\n",
       "      <td>305</td>\n",
       "      <td>361</td>\n",
       "      <td>247</td>\n",
       "      <td>233</td>\n",
       "      <td>276</td>\n",
       "    </tr>\n",
       "  </tbody>\n",
       "</table>\n",
       "<p>5 rows × 23 columns</p>\n",
       "</div>"
      ],
      "text/plain": [
       "    0    1    2    3    4    5    6    7    8    9   ...   13   14   15   16  \\\n",
       "0   91  347  263  266  324  186  209  349  266  118  ...  229   27   27   46   \n",
       "1  180  143  298  115  110  251   66   86  118  265  ...  256  106  246  341   \n",
       "2   73  361   88  110  240  361   76  131  153    4  ...  305  297   36  122   \n",
       "3  309  224  327  165  321   82  190  138  325  263  ...  133  301  296  230   \n",
       "4  227  289  256  218  299   23  365   41  108  129  ...  100  293  338   65   \n",
       "\n",
       "    17   18   19   20   21   22  \n",
       "0  257  246  108   17   64  289  \n",
       "1  179  273  304   13  364  134  \n",
       "2  282   67  111   36   24  113  \n",
       "3   32  292  129  200  263  341  \n",
       "4  169  305  361  247  233  276  \n",
       "\n",
       "[5 rows x 23 columns]"
      ]
     },
     "execution_count": 66,
     "metadata": {},
     "output_type": "execute_result"
    }
   ],
   "source": [
    "bdays23_df = pd.DataFrame(data8)\n",
    "bdays23_df.head()"
   ]
  },
  {
   "cell_type": "code",
   "execution_count": 67,
   "metadata": {},
   "outputs": [
    {
     "data": {
      "text/plain": [
       "0       21\n",
       "1       23\n",
       "2       21\n",
       "3       22\n",
       "4       23\n",
       "        ..\n",
       "9995    21\n",
       "9996    21\n",
       "9997    23\n",
       "9998    22\n",
       "9999    22\n",
       "Length: 10000, dtype: int64"
      ]
     },
     "execution_count": 67,
     "metadata": {},
     "output_type": "execute_result"
    }
   ],
   "source": [
    "same_day23 = bdays23_df.nunique(axis = 1)\n",
    "same_day23"
   ]
  },
  {
   "cell_type": "code",
   "execution_count": 68,
   "metadata": {},
   "outputs": [
    {
     "data": {
      "text/plain": [
       "0.5166"
      ]
     },
     "execution_count": 68,
     "metadata": {},
     "output_type": "execute_result"
    }
   ],
   "source": [
    "same23 = (same_day23 < 23).mean()\n",
    "same23"
   ]
  },
  {
   "cell_type": "markdown",
   "metadata": {},
   "source": [
    "#### What if it's 20 people?"
   ]
  },
  {
   "cell_type": "code",
   "execution_count": 105,
   "metadata": {},
   "outputs": [
    {
     "data": {
      "text/plain": [
       "array([[321, 226, 144, ..., 334,  81,  81],\n",
       "       [349,  80,  75, ..., 300, 348, 292],\n",
       "       [362, 322,  98, ..., 288, 126, 216],\n",
       "       ...,\n",
       "       [ 59, 195, 255, ..., 153, 130, 103],\n",
       "       [349, 102,  89, ...,  43,  68,  92],\n",
       "       [296,   4,  63, ..., 307, 299, 114]])"
      ]
     },
     "execution_count": 105,
     "metadata": {},
     "output_type": "execute_result"
    }
   ],
   "source": [
    "bday = range(1,366)\n",
    "\n",
    "n_trials = n_rows = 10000\n",
    "n_people = n_cols = 20\n",
    "\n",
    "data20 = np.random.choice(bday, n_trials * n_people).reshape(n_rows, n_cols)\n",
    "data20"
   ]
  },
  {
   "cell_type": "code",
   "execution_count": 106,
   "metadata": {},
   "outputs": [
    {
     "data": {
      "text/html": [
       "<div>\n",
       "<style scoped>\n",
       "    .dataframe tbody tr th:only-of-type {\n",
       "        vertical-align: middle;\n",
       "    }\n",
       "\n",
       "    .dataframe tbody tr th {\n",
       "        vertical-align: top;\n",
       "    }\n",
       "\n",
       "    .dataframe thead th {\n",
       "        text-align: right;\n",
       "    }\n",
       "</style>\n",
       "<table border=\"1\" class=\"dataframe\">\n",
       "  <thead>\n",
       "    <tr style=\"text-align: right;\">\n",
       "      <th></th>\n",
       "      <th>0</th>\n",
       "      <th>1</th>\n",
       "      <th>2</th>\n",
       "      <th>3</th>\n",
       "      <th>4</th>\n",
       "      <th>5</th>\n",
       "      <th>6</th>\n",
       "      <th>7</th>\n",
       "      <th>8</th>\n",
       "      <th>9</th>\n",
       "      <th>10</th>\n",
       "      <th>11</th>\n",
       "      <th>12</th>\n",
       "      <th>13</th>\n",
       "      <th>14</th>\n",
       "      <th>15</th>\n",
       "      <th>16</th>\n",
       "      <th>17</th>\n",
       "      <th>18</th>\n",
       "      <th>19</th>\n",
       "    </tr>\n",
       "  </thead>\n",
       "  <tbody>\n",
       "    <tr>\n",
       "      <th>0</th>\n",
       "      <td>321</td>\n",
       "      <td>226</td>\n",
       "      <td>144</td>\n",
       "      <td>315</td>\n",
       "      <td>134</td>\n",
       "      <td>92</td>\n",
       "      <td>68</td>\n",
       "      <td>45</td>\n",
       "      <td>314</td>\n",
       "      <td>164</td>\n",
       "      <td>141</td>\n",
       "      <td>343</td>\n",
       "      <td>58</td>\n",
       "      <td>154</td>\n",
       "      <td>27</td>\n",
       "      <td>61</td>\n",
       "      <td>215</td>\n",
       "      <td>334</td>\n",
       "      <td>81</td>\n",
       "      <td>81</td>\n",
       "    </tr>\n",
       "    <tr>\n",
       "      <th>1</th>\n",
       "      <td>349</td>\n",
       "      <td>80</td>\n",
       "      <td>75</td>\n",
       "      <td>321</td>\n",
       "      <td>133</td>\n",
       "      <td>127</td>\n",
       "      <td>104</td>\n",
       "      <td>353</td>\n",
       "      <td>225</td>\n",
       "      <td>12</td>\n",
       "      <td>142</td>\n",
       "      <td>206</td>\n",
       "      <td>295</td>\n",
       "      <td>86</td>\n",
       "      <td>297</td>\n",
       "      <td>240</td>\n",
       "      <td>276</td>\n",
       "      <td>300</td>\n",
       "      <td>348</td>\n",
       "      <td>292</td>\n",
       "    </tr>\n",
       "    <tr>\n",
       "      <th>2</th>\n",
       "      <td>362</td>\n",
       "      <td>322</td>\n",
       "      <td>98</td>\n",
       "      <td>180</td>\n",
       "      <td>329</td>\n",
       "      <td>189</td>\n",
       "      <td>311</td>\n",
       "      <td>241</td>\n",
       "      <td>83</td>\n",
       "      <td>180</td>\n",
       "      <td>205</td>\n",
       "      <td>124</td>\n",
       "      <td>316</td>\n",
       "      <td>305</td>\n",
       "      <td>311</td>\n",
       "      <td>2</td>\n",
       "      <td>225</td>\n",
       "      <td>288</td>\n",
       "      <td>126</td>\n",
       "      <td>216</td>\n",
       "    </tr>\n",
       "    <tr>\n",
       "      <th>3</th>\n",
       "      <td>73</td>\n",
       "      <td>183</td>\n",
       "      <td>293</td>\n",
       "      <td>246</td>\n",
       "      <td>290</td>\n",
       "      <td>130</td>\n",
       "      <td>200</td>\n",
       "      <td>3</td>\n",
       "      <td>322</td>\n",
       "      <td>239</td>\n",
       "      <td>80</td>\n",
       "      <td>107</td>\n",
       "      <td>108</td>\n",
       "      <td>111</td>\n",
       "      <td>221</td>\n",
       "      <td>113</td>\n",
       "      <td>267</td>\n",
       "      <td>245</td>\n",
       "      <td>215</td>\n",
       "      <td>345</td>\n",
       "    </tr>\n",
       "    <tr>\n",
       "      <th>4</th>\n",
       "      <td>17</td>\n",
       "      <td>228</td>\n",
       "      <td>21</td>\n",
       "      <td>203</td>\n",
       "      <td>78</td>\n",
       "      <td>298</td>\n",
       "      <td>299</td>\n",
       "      <td>222</td>\n",
       "      <td>325</td>\n",
       "      <td>308</td>\n",
       "      <td>265</td>\n",
       "      <td>177</td>\n",
       "      <td>298</td>\n",
       "      <td>304</td>\n",
       "      <td>75</td>\n",
       "      <td>310</td>\n",
       "      <td>50</td>\n",
       "      <td>111</td>\n",
       "      <td>77</td>\n",
       "      <td>94</td>\n",
       "    </tr>\n",
       "  </tbody>\n",
       "</table>\n",
       "</div>"
      ],
      "text/plain": [
       "    0    1    2    3    4    5    6    7    8    9    10   11   12   13   14  \\\n",
       "0  321  226  144  315  134   92   68   45  314  164  141  343   58  154   27   \n",
       "1  349   80   75  321  133  127  104  353  225   12  142  206  295   86  297   \n",
       "2  362  322   98  180  329  189  311  241   83  180  205  124  316  305  311   \n",
       "3   73  183  293  246  290  130  200    3  322  239   80  107  108  111  221   \n",
       "4   17  228   21  203   78  298  299  222  325  308  265  177  298  304   75   \n",
       "\n",
       "    15   16   17   18   19  \n",
       "0   61  215  334   81   81  \n",
       "1  240  276  300  348  292  \n",
       "2    2  225  288  126  216  \n",
       "3  113  267  245  215  345  \n",
       "4  310   50  111   77   94  "
      ]
     },
     "execution_count": 106,
     "metadata": {},
     "output_type": "execute_result"
    }
   ],
   "source": [
    "bdays20_df = pd.DataFrame(data20)\n",
    "bdays20_df.head()"
   ]
  },
  {
   "cell_type": "code",
   "execution_count": 107,
   "metadata": {},
   "outputs": [
    {
     "data": {
      "text/plain": [
       "0       19\n",
       "1       20\n",
       "2       18\n",
       "3       20\n",
       "4       19\n",
       "        ..\n",
       "9995    20\n",
       "9996    19\n",
       "9997    20\n",
       "9998    20\n",
       "9999    17\n",
       "Length: 10000, dtype: int64"
      ]
     },
     "execution_count": 107,
     "metadata": {},
     "output_type": "execute_result"
    }
   ],
   "source": [
    "same_day20 = bdays20_df.nunique(axis = 1)\n",
    "same_day20"
   ]
  },
  {
   "cell_type": "code",
   "execution_count": 108,
   "metadata": {},
   "outputs": [
    {
     "data": {
      "text/plain": [
       "0.4164"
      ]
     },
     "execution_count": 108,
     "metadata": {},
     "output_type": "execute_result"
    }
   ],
   "source": [
    "same20 = (same_day20 < 20).mean()\n",
    "same20"
   ]
  },
  {
   "cell_type": "markdown",
   "metadata": {},
   "source": [
    "####  40?"
   ]
  },
  {
   "cell_type": "code",
   "execution_count": 109,
   "metadata": {},
   "outputs": [
    {
     "data": {
      "text/plain": [
       "array([[ 56,  32,  81, ..., 220, 164, 159],\n",
       "       [203, 141, 152, ..., 285,  13, 179],\n",
       "       [ 45, 194, 214, ..., 263, 101,  26],\n",
       "       ...,\n",
       "       [ 45,  19,  31, ..., 284, 184,  11],\n",
       "       [ 73, 262, 279, ..., 256, 334, 201],\n",
       "       [158,  74,  90, ...,  66,   7, 233]])"
      ]
     },
     "execution_count": 109,
     "metadata": {},
     "output_type": "execute_result"
    }
   ],
   "source": [
    "bday = range(1,366)\n",
    "\n",
    "n_trials = n_rows = 10000\n",
    "n_people = n_cols = 40\n",
    "\n",
    "data40 = np.random.choice(bday, n_trials * n_people).reshape(n_rows, n_cols)\n",
    "data40"
   ]
  },
  {
   "cell_type": "code",
   "execution_count": 110,
   "metadata": {},
   "outputs": [
    {
     "data": {
      "text/html": [
       "<div>\n",
       "<style scoped>\n",
       "    .dataframe tbody tr th:only-of-type {\n",
       "        vertical-align: middle;\n",
       "    }\n",
       "\n",
       "    .dataframe tbody tr th {\n",
       "        vertical-align: top;\n",
       "    }\n",
       "\n",
       "    .dataframe thead th {\n",
       "        text-align: right;\n",
       "    }\n",
       "</style>\n",
       "<table border=\"1\" class=\"dataframe\">\n",
       "  <thead>\n",
       "    <tr style=\"text-align: right;\">\n",
       "      <th></th>\n",
       "      <th>0</th>\n",
       "      <th>1</th>\n",
       "      <th>2</th>\n",
       "      <th>3</th>\n",
       "      <th>4</th>\n",
       "      <th>5</th>\n",
       "      <th>6</th>\n",
       "      <th>7</th>\n",
       "      <th>8</th>\n",
       "      <th>9</th>\n",
       "      <th>...</th>\n",
       "      <th>30</th>\n",
       "      <th>31</th>\n",
       "      <th>32</th>\n",
       "      <th>33</th>\n",
       "      <th>34</th>\n",
       "      <th>35</th>\n",
       "      <th>36</th>\n",
       "      <th>37</th>\n",
       "      <th>38</th>\n",
       "      <th>39</th>\n",
       "    </tr>\n",
       "  </thead>\n",
       "  <tbody>\n",
       "    <tr>\n",
       "      <th>0</th>\n",
       "      <td>56</td>\n",
       "      <td>32</td>\n",
       "      <td>81</td>\n",
       "      <td>365</td>\n",
       "      <td>328</td>\n",
       "      <td>68</td>\n",
       "      <td>129</td>\n",
       "      <td>158</td>\n",
       "      <td>48</td>\n",
       "      <td>348</td>\n",
       "      <td>...</td>\n",
       "      <td>161</td>\n",
       "      <td>91</td>\n",
       "      <td>74</td>\n",
       "      <td>351</td>\n",
       "      <td>45</td>\n",
       "      <td>20</td>\n",
       "      <td>362</td>\n",
       "      <td>220</td>\n",
       "      <td>164</td>\n",
       "      <td>159</td>\n",
       "    </tr>\n",
       "    <tr>\n",
       "      <th>1</th>\n",
       "      <td>203</td>\n",
       "      <td>141</td>\n",
       "      <td>152</td>\n",
       "      <td>242</td>\n",
       "      <td>343</td>\n",
       "      <td>45</td>\n",
       "      <td>226</td>\n",
       "      <td>12</td>\n",
       "      <td>117</td>\n",
       "      <td>186</td>\n",
       "      <td>...</td>\n",
       "      <td>284</td>\n",
       "      <td>146</td>\n",
       "      <td>115</td>\n",
       "      <td>135</td>\n",
       "      <td>308</td>\n",
       "      <td>344</td>\n",
       "      <td>71</td>\n",
       "      <td>285</td>\n",
       "      <td>13</td>\n",
       "      <td>179</td>\n",
       "    </tr>\n",
       "    <tr>\n",
       "      <th>2</th>\n",
       "      <td>45</td>\n",
       "      <td>194</td>\n",
       "      <td>214</td>\n",
       "      <td>283</td>\n",
       "      <td>347</td>\n",
       "      <td>147</td>\n",
       "      <td>31</td>\n",
       "      <td>37</td>\n",
       "      <td>76</td>\n",
       "      <td>312</td>\n",
       "      <td>...</td>\n",
       "      <td>310</td>\n",
       "      <td>309</td>\n",
       "      <td>62</td>\n",
       "      <td>37</td>\n",
       "      <td>27</td>\n",
       "      <td>70</td>\n",
       "      <td>40</td>\n",
       "      <td>263</td>\n",
       "      <td>101</td>\n",
       "      <td>26</td>\n",
       "    </tr>\n",
       "    <tr>\n",
       "      <th>3</th>\n",
       "      <td>262</td>\n",
       "      <td>111</td>\n",
       "      <td>216</td>\n",
       "      <td>271</td>\n",
       "      <td>263</td>\n",
       "      <td>86</td>\n",
       "      <td>296</td>\n",
       "      <td>43</td>\n",
       "      <td>330</td>\n",
       "      <td>122</td>\n",
       "      <td>...</td>\n",
       "      <td>237</td>\n",
       "      <td>242</td>\n",
       "      <td>219</td>\n",
       "      <td>301</td>\n",
       "      <td>160</td>\n",
       "      <td>236</td>\n",
       "      <td>362</td>\n",
       "      <td>152</td>\n",
       "      <td>190</td>\n",
       "      <td>108</td>\n",
       "    </tr>\n",
       "    <tr>\n",
       "      <th>4</th>\n",
       "      <td>155</td>\n",
       "      <td>246</td>\n",
       "      <td>107</td>\n",
       "      <td>274</td>\n",
       "      <td>290</td>\n",
       "      <td>220</td>\n",
       "      <td>62</td>\n",
       "      <td>71</td>\n",
       "      <td>50</td>\n",
       "      <td>30</td>\n",
       "      <td>...</td>\n",
       "      <td>70</td>\n",
       "      <td>230</td>\n",
       "      <td>301</td>\n",
       "      <td>161</td>\n",
       "      <td>153</td>\n",
       "      <td>328</td>\n",
       "      <td>303</td>\n",
       "      <td>180</td>\n",
       "      <td>334</td>\n",
       "      <td>320</td>\n",
       "    </tr>\n",
       "  </tbody>\n",
       "</table>\n",
       "<p>5 rows × 40 columns</p>\n",
       "</div>"
      ],
      "text/plain": [
       "    0    1    2    3    4    5    6    7    8    9   ...   30   31   32   33  \\\n",
       "0   56   32   81  365  328   68  129  158   48  348  ...  161   91   74  351   \n",
       "1  203  141  152  242  343   45  226   12  117  186  ...  284  146  115  135   \n",
       "2   45  194  214  283  347  147   31   37   76  312  ...  310  309   62   37   \n",
       "3  262  111  216  271  263   86  296   43  330  122  ...  237  242  219  301   \n",
       "4  155  246  107  274  290  220   62   71   50   30  ...   70  230  301  161   \n",
       "\n",
       "    34   35   36   37   38   39  \n",
       "0   45   20  362  220  164  159  \n",
       "1  308  344   71  285   13  179  \n",
       "2   27   70   40  263  101   26  \n",
       "3  160  236  362  152  190  108  \n",
       "4  153  328  303  180  334  320  \n",
       "\n",
       "[5 rows x 40 columns]"
      ]
     },
     "execution_count": 110,
     "metadata": {},
     "output_type": "execute_result"
    }
   ],
   "source": [
    "bdays40_df = pd.DataFrame(data40)\n",
    "bdays40_df.head()"
   ]
  },
  {
   "cell_type": "code",
   "execution_count": 111,
   "metadata": {},
   "outputs": [
    {
     "data": {
      "text/plain": [
       "0       37\n",
       "1       39\n",
       "2       37\n",
       "3       39\n",
       "4       38\n",
       "        ..\n",
       "9995    39\n",
       "9996    38\n",
       "9997    36\n",
       "9998    40\n",
       "9999    39\n",
       "Length: 10000, dtype: int64"
      ]
     },
     "execution_count": 111,
     "metadata": {},
     "output_type": "execute_result"
    }
   ],
   "source": [
    "same_day40 = bdays40_df.nunique(axis = 1)\n",
    "same_day40"
   ]
  },
  {
   "cell_type": "code",
   "execution_count": 112,
   "metadata": {},
   "outputs": [
    {
     "data": {
      "text/plain": [
       "0.8936"
      ]
     },
     "execution_count": 112,
     "metadata": {},
     "output_type": "execute_result"
    }
   ],
   "source": [
    "same40 = (same_day40 < 40).mean()\n",
    "same40"
   ]
  },
  {
   "cell_type": "code",
   "execution_count": null,
   "metadata": {},
   "outputs": [],
   "source": []
  }
 ],
 "metadata": {
  "kernelspec": {
   "display_name": "Python 3",
   "language": "python",
   "name": "python3"
  },
  "language_info": {
   "codemirror_mode": {
    "name": "ipython",
    "version": 3
   },
   "file_extension": ".py",
   "mimetype": "text/x-python",
   "name": "python",
   "nbconvert_exporter": "python",
   "pygments_lexer": "ipython3",
   "version": "3.8.5"
  }
 },
 "nbformat": 4,
 "nbformat_minor": 4
}
