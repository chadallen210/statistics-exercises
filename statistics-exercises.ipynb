{
 "cells": [
  {
   "cell_type": "markdown",
   "metadata": {},
   "source": [
    "# Statistics Exercises"
   ]
  },
  {
   "cell_type": "markdown",
   "metadata": {},
   "source": [
    "#### 1. How likely is it that you roll doubles when rolling two dice?"
   ]
  },
  {
   "cell_type": "code",
   "execution_count": 8,
   "metadata": {},
   "outputs": [],
   "source": [
    "import numpy as np\n",
    "import pandas as pd\n",
    "\n",
    "np.random.seed(1234)"
   ]
  },
  {
   "cell_type": "code",
   "execution_count": 117,
   "metadata": {},
   "outputs": [
    {
     "data": {
      "text/plain": [
       "array([[6, 4],\n",
       "       [3, 3],\n",
       "       [3, 4],\n",
       "       ...,\n",
       "       [6, 1],\n",
       "       [6, 6],\n",
       "       [2, 4]])"
      ]
     },
     "execution_count": 117,
     "metadata": {},
     "output_type": "execute_result"
    }
   ],
   "source": [
    "outcomes = [1,2,3,4,5,6]\n",
    "\n",
    "n_dice = n_cols = 2\n",
    "num_trials = n_rows = 1000000\n",
    "\n",
    "data1 = np.random.choice(outcomes, num_trials * n_dice).reshape(num_trials, n_dice)\n",
    "data1"
   ]
  },
  {
   "cell_type": "code",
   "execution_count": 118,
   "metadata": {},
   "outputs": [
    {
     "data": {
      "text/plain": [
       "0.166396"
      ]
     },
     "execution_count": 118,
     "metadata": {},
     "output_type": "execute_result"
    }
   ],
   "source": [
    "pd.DataFrame(data1).apply(lambda x: x[0] == x[1] in x.values, axis = 1).mean()"
   ]
  },
  {
   "cell_type": "markdown",
   "metadata": {},
   "source": [
    "#### 2. If you flip 8 coins, what is the probability of getting exactly 3 heads? "
   ]
  },
  {
   "cell_type": "code",
   "execution_count": 120,
   "metadata": {},
   "outputs": [
    {
     "data": {
      "text/plain": [
       "array([[1, 0, 1, ..., 0, 0, 1],\n",
       "       [0, 1, 1, ..., 0, 0, 1],\n",
       "       [1, 1, 0, ..., 0, 0, 1],\n",
       "       ...,\n",
       "       [0, 1, 1, ..., 0, 1, 0],\n",
       "       [1, 0, 1, ..., 0, 1, 1],\n",
       "       [0, 0, 1, ..., 0, 1, 1]])"
      ]
     },
     "execution_count": 120,
     "metadata": {},
     "output_type": "execute_result"
    }
   ],
   "source": [
    "heads = 1\n",
    "tails = 0\n",
    "outcomes = [0,1]\n",
    "\n",
    "n_trials = n_rows = 1000000\n",
    "n_coins = n_cols = 8\n",
    "\n",
    "data2 = np.random.choice(outcomes, n_trials * n_coins).reshape(n_rows, n_cols)\n",
    "data2"
   ]
  },
  {
   "cell_type": "code",
   "execution_count": 121,
   "metadata": {},
   "outputs": [
    {
     "data": {
      "text/plain": [
       "array([3, 5, 5, ..., 4, 4, 5])"
      ]
     },
     "execution_count": 121,
     "metadata": {},
     "output_type": "execute_result"
    }
   ],
   "source": [
    "total_heads = data2.sum(axis = 1)\n",
    "total_heads"
   ]
  },
  {
   "cell_type": "code",
   "execution_count": 122,
   "metadata": {},
   "outputs": [
    {
     "data": {
      "text/plain": [
       "0.218979"
      ]
     },
     "execution_count": 122,
     "metadata": {},
     "output_type": "execute_result"
    }
   ],
   "source": [
    "three_heads = (total_heads == 3).mean()\n",
    "three_heads"
   ]
  },
  {
   "cell_type": "markdown",
   "metadata": {},
   "source": [
    "#### What is the probability of getting more than 3 heads?"
   ]
  },
  {
   "cell_type": "code",
   "execution_count": 125,
   "metadata": {},
   "outputs": [
    {
     "data": {
      "text/plain": [
       "0.63656"
      ]
     },
     "execution_count": 125,
     "metadata": {},
     "output_type": "execute_result"
    }
   ],
   "source": [
    "more_than_three = (total_heads > 3).mean()\n",
    "more_than_three"
   ]
  },
  {
   "cell_type": "markdown",
   "metadata": {},
   "source": [
    "#### 3. There are approximitely 3 web development cohorts for every 1 data science cohort at Codeup. Assuming that Codeup randomly selects an alumni to put on a billboard, what are the odds that the two billboards I drive past both have data science students on them?"
   ]
  },
  {
   "cell_type": "code",
   "execution_count": 129,
   "metadata": {},
   "outputs": [
    {
     "data": {
      "text/plain": [
       "array([[1, 3],\n",
       "       [3, 1],\n",
       "       [3, 3],\n",
       "       ...,\n",
       "       [3, 1],\n",
       "       [1, 3],\n",
       "       [3, 3]])"
      ]
     },
     "execution_count": 129,
     "metadata": {},
     "output_type": "execute_result"
    }
   ],
   "source": [
    "web = 3\n",
    "data = 1\n",
    "outcomes = [3,1]\n",
    "\n",
    "prob_web = 0.75\n",
    "prob_ds = 1 - prob_web\n",
    "\n",
    "n_trials = n_rows = 1000000\n",
    "n_alumns = n_cols = 2\n",
    "\n",
    "data3 = np.random.choice(outcomes, n_trials * n_alumns, p = [prob_web, prob_ds]).reshape(n_rows, n_cols)\n",
    "data3"
   ]
  },
  {
   "cell_type": "code",
   "execution_count": 130,
   "metadata": {},
   "outputs": [
    {
     "data": {
      "text/plain": [
       "array([4, 4, 6, ..., 4, 4, 6])"
      ]
     },
     "execution_count": 130,
     "metadata": {},
     "output_type": "execute_result"
    }
   ],
   "source": [
    "total_alums = data3.sum(axis = 1)\n",
    "total_alums"
   ]
  },
  {
   "cell_type": "code",
   "execution_count": 131,
   "metadata": {},
   "outputs": [
    {
     "data": {
      "text/plain": [
       "0.062453"
      ]
     },
     "execution_count": 131,
     "metadata": {},
     "output_type": "execute_result"
    }
   ],
   "source": [
    "two_ds = (total_alums == 2).mean()\n",
    "two_ds"
   ]
  },
  {
   "cell_type": "markdown",
   "metadata": {},
   "source": [
    "#### 4. Codeup students buy, on average, 3 poptart packages (+- 1.5) a day from the snack vending machine. If on monday the machine is restocked with 17 poptart packages, how likely is it that I will be able to buy some poptarts on Friday afternoon?"
   ]
  },
  {
   "cell_type": "code",
   "execution_count": 135,
   "metadata": {},
   "outputs": [
    {
     "data": {
      "text/plain": [
       "array([[2.12951076, 4.5405049 , 4.40586803, 3.38254733, 3.9331062 ],\n",
       "       [2.61523523, 1.68529405, 3.27179368, 3.25797338, 3.00431835],\n",
       "       [3.2463649 , 5.2759897 , 4.74195774, 2.79025333, 2.08085424],\n",
       "       ...,\n",
       "       [0.30179481, 5.74327071, 1.88828435, 2.71949137, 2.17850073],\n",
       "       [2.8788624 , 2.9072502 , 3.39544213, 3.29222425, 3.89141057],\n",
       "       [3.24488996, 2.90967169, 2.62904464, 2.91875247, 5.24297542]])"
      ]
     },
     "execution_count": 135,
     "metadata": {},
     "output_type": "execute_result"
    }
   ],
   "source": [
    "n_trials = n_rows = 1000000\n",
    "n_days = n_cols = 5\n",
    "\n",
    "data4 = np.random.normal(3, 1.5, size = (n_trials, n_days))\n",
    "data4"
   ]
  },
  {
   "cell_type": "code",
   "execution_count": 136,
   "metadata": {},
   "outputs": [
    {
     "data": {
      "text/plain": [
       "array([18.39153722, 13.83461469, 18.13541991, ..., 12.83134197,\n",
       "       16.36518956, 16.94533416])"
      ]
     },
     "execution_count": 136,
     "metadata": {},
     "output_type": "execute_result"
    }
   ],
   "source": [
    "total_packs = data4.sum(axis = 1)\n",
    "total_packs"
   ]
  },
  {
   "cell_type": "code",
   "execution_count": 139,
   "metadata": {},
   "outputs": [
    {
     "data": {
      "text/plain": [
       "0.724418"
      ]
     },
     "execution_count": 139,
     "metadata": {},
     "output_type": "execute_result"
    }
   ],
   "source": [
    "poptarts = (total_packs < 17).mean()\n",
    "poptarts"
   ]
  },
  {
   "cell_type": "markdown",
   "metadata": {},
   "source": [
    "#### 5. Compare Heights\n",
    "\n",
    "    - Men have an average height of 178 cm and standard deviation of 8cm.\n",
    "    - Women have a mean of 170, sd = 6cm.\n",
    "    - If a man and woman are chosen at random, P(woman taller than man)?"
   ]
  },
  {
   "cell_type": "code",
   "execution_count": 143,
   "metadata": {},
   "outputs": [],
   "source": [
    "n_trials = n_rows = 1000000\n",
    "m_and_w = n_cols = 2\n",
    "\n",
    "men_height = np.random.normal(178, 8, n_trials)\n",
    "women_height = np.random.normal(170, 6, n_trials)"
   ]
  },
  {
   "cell_type": "code",
   "execution_count": 144,
   "metadata": {},
   "outputs": [
    {
     "data": {
      "text/plain": [
       "array([ 8.66131688, 17.92880612, 11.51192133, ..., 10.759302  ,\n",
       "        6.61063224, 15.38927982])"
      ]
     },
     "execution_count": 144,
     "metadata": {},
     "output_type": "execute_result"
    }
   ],
   "source": [
    "height_diff = np.subtract(men_height, women_height)\n",
    "height_diff"
   ]
  },
  {
   "cell_type": "code",
   "execution_count": 145,
   "metadata": {},
   "outputs": [
    {
     "data": {
      "text/plain": [
       "0.212287"
      ]
     },
     "execution_count": 145,
     "metadata": {},
     "output_type": "execute_result"
    }
   ],
   "source": [
    "woman_taller = (height_diff < 0).mean()\n",
    "woman_taller"
   ]
  },
  {
   "cell_type": "markdown",
   "metadata": {},
   "source": [
    "#### 6. When installing anaconda on a student's computer, there's a 1 in 250 chance that the download is corrupted and the installation fails. What are the odds that after having 50 students download anaconda, no one has an installation issue? "
   ]
  },
  {
   "cell_type": "code",
   "execution_count": 149,
   "metadata": {},
   "outputs": [
    {
     "data": {
      "text/plain": [
       "array([[1, 1, 1, ..., 1, 1, 1],\n",
       "       [1, 1, 1, ..., 1, 1, 1],\n",
       "       [1, 1, 1, ..., 1, 1, 1],\n",
       "       ...,\n",
       "       [1, 1, 1, ..., 1, 1, 1],\n",
       "       [1, 1, 1, ..., 1, 1, 1],\n",
       "       [1, 1, 1, ..., 1, 1, 1]])"
      ]
     },
     "execution_count": 149,
     "metadata": {},
     "output_type": "execute_result"
    }
   ],
   "source": [
    "prob_fail = 1/250\n",
    "prob_success = 1 - prob_fail\n",
    "\n",
    "outcomes = [0,1]\n",
    "\n",
    "n_trials = n_rows = 1000000\n",
    "n_downloads = n_cols = 50\n",
    "\n",
    "data6 = np.random.choice(outcomes, n_trials * n_downloads, p = [prob_fail, prob_success]).reshape(n_rows, n_cols)\n",
    "data6"
   ]
  },
  {
   "cell_type": "code",
   "execution_count": 150,
   "metadata": {},
   "outputs": [
    {
     "data": {
      "text/plain": [
       "array([50, 50, 50, ..., 50, 50, 50])"
      ]
     },
     "execution_count": 150,
     "metadata": {},
     "output_type": "execute_result"
    }
   ],
   "source": [
    "installs50 = data6.sum(axis = 1)\n",
    "installs50"
   ]
  },
  {
   "cell_type": "code",
   "execution_count": 151,
   "metadata": {},
   "outputs": [
    {
     "data": {
      "text/plain": [
       "0.181616"
      ]
     },
     "execution_count": 151,
     "metadata": {},
     "output_type": "execute_result"
    }
   ],
   "source": [
    "fails50 = (installs50 < 50).mean()\n",
    "fails50"
   ]
  },
  {
   "cell_type": "markdown",
   "metadata": {},
   "source": [
    "#### 100 students?"
   ]
  },
  {
   "cell_type": "code",
   "execution_count": 152,
   "metadata": {},
   "outputs": [
    {
     "data": {
      "text/plain": [
       "array([[1, 1, 1, ..., 1, 1, 1],\n",
       "       [1, 1, 1, ..., 1, 1, 1],\n",
       "       [1, 1, 1, ..., 1, 1, 1],\n",
       "       ...,\n",
       "       [1, 1, 1, ..., 1, 1, 1],\n",
       "       [1, 1, 1, ..., 1, 1, 1],\n",
       "       [1, 1, 1, ..., 1, 1, 1]])"
      ]
     },
     "execution_count": 152,
     "metadata": {},
     "output_type": "execute_result"
    }
   ],
   "source": [
    "prob_fail = 1/250\n",
    "prob_success = 1 - prob_fail\n",
    "\n",
    "outcomes = [0,1]\n",
    "\n",
    "n_trials = n_rows = 1000000\n",
    "n_downloads = n_cols = 100\n",
    "\n",
    "data100 = np.random.choice(outcomes, n_trials * n_downloads, p = [prob_fail, prob_success]).reshape(n_rows, n_cols)\n",
    "data100"
   ]
  },
  {
   "cell_type": "code",
   "execution_count": 153,
   "metadata": {},
   "outputs": [
    {
     "data": {
      "text/plain": [
       "array([100, 100, 100, ..., 100, 100, 100])"
      ]
     },
     "execution_count": 153,
     "metadata": {},
     "output_type": "execute_result"
    }
   ],
   "source": [
    "installs100 = data100.sum(axis = 1)\n",
    "installs100"
   ]
  },
  {
   "cell_type": "code",
   "execution_count": 154,
   "metadata": {},
   "outputs": [
    {
     "data": {
      "text/plain": [
       "0.330868"
      ]
     },
     "execution_count": 154,
     "metadata": {},
     "output_type": "execute_result"
    }
   ],
   "source": [
    "fails100 = (installs100 < 100).mean()\n",
    "fails100"
   ]
  },
  {
   "cell_type": "markdown",
   "metadata": {},
   "source": [
    "#### What is the probability that we observe an installation issue within the first 150 students that download anaconda?"
   ]
  },
  {
   "cell_type": "code",
   "execution_count": 155,
   "metadata": {},
   "outputs": [
    {
     "data": {
      "text/plain": [
       "array([[1, 1, 1, ..., 1, 1, 1],\n",
       "       [1, 1, 1, ..., 1, 1, 1],\n",
       "       [1, 1, 1, ..., 1, 1, 1],\n",
       "       ...,\n",
       "       [1, 1, 1, ..., 1, 1, 1],\n",
       "       [1, 1, 1, ..., 1, 1, 1],\n",
       "       [1, 1, 1, ..., 1, 1, 1]])"
      ]
     },
     "execution_count": 155,
     "metadata": {},
     "output_type": "execute_result"
    }
   ],
   "source": [
    "prob_fail = 1/250\n",
    "prob_success = 1 - prob_fail\n",
    "\n",
    "outcomes = [0,1]\n",
    "\n",
    "n_trials = n_rows = 1000000\n",
    "n_downloads = n_cols = 150\n",
    "\n",
    "data150 = np.random.choice(outcomes, n_trials * n_downloads, p = [prob_fail, prob_success]).reshape(n_rows, n_cols)\n",
    "data150"
   ]
  },
  {
   "cell_type": "code",
   "execution_count": 156,
   "metadata": {},
   "outputs": [
    {
     "data": {
      "text/plain": [
       "array([149, 148, 150, ..., 149, 150, 150])"
      ]
     },
     "execution_count": 156,
     "metadata": {},
     "output_type": "execute_result"
    }
   ],
   "source": [
    "installs150 = data150.sum(axis = 1)\n",
    "installs150"
   ]
  },
  {
   "cell_type": "code",
   "execution_count": 157,
   "metadata": {},
   "outputs": [
    {
     "data": {
      "text/plain": [
       "0.45174"
      ]
     },
     "execution_count": 157,
     "metadata": {},
     "output_type": "execute_result"
    }
   ],
   "source": [
    "fails150 = (installs150 < 150).mean()\n",
    "fails150"
   ]
  },
  {
   "cell_type": "markdown",
   "metadata": {},
   "source": [
    "#### How likely is it that 450 students all download anaconda without an issue?"
   ]
  },
  {
   "cell_type": "code",
   "execution_count": 177,
   "metadata": {},
   "outputs": [
    {
     "data": {
      "text/plain": [
       "array([[1, 1, 1, ..., 1, 1, 1],\n",
       "       [1, 1, 1, ..., 1, 1, 1],\n",
       "       [1, 1, 1, ..., 1, 1, 1],\n",
       "       ...,\n",
       "       [1, 1, 1, ..., 1, 1, 1],\n",
       "       [1, 1, 1, ..., 0, 1, 1],\n",
       "       [1, 1, 1, ..., 1, 1, 1]])"
      ]
     },
     "execution_count": 177,
     "metadata": {},
     "output_type": "execute_result"
    }
   ],
   "source": [
    "prob_fail = 1/250\n",
    "prob_success = 1 - prob_fail\n",
    "\n",
    "outcomes = [0,1]\n",
    "\n",
    "n_trials = n_rows = 1000000\n",
    "n_downloads = n_cols = 450\n",
    "\n",
    "data450 = np.random.choice(outcomes, n_trials * n_downloads, p = [prob_fail, prob_success]).reshape(n_rows, n_cols)\n",
    "data450"
   ]
  },
  {
   "cell_type": "code",
   "execution_count": 178,
   "metadata": {},
   "outputs": [
    {
     "data": {
      "text/plain": [
       "array([448, 445, 449, ..., 449, 446, 449])"
      ]
     },
     "execution_count": 178,
     "metadata": {},
     "output_type": "execute_result"
    }
   ],
   "source": [
    "installs450 = data450.sum(axis = 1)\n",
    "installs450"
   ]
  },
  {
   "cell_type": "code",
   "execution_count": 179,
   "metadata": {},
   "outputs": [
    {
     "data": {
      "text/plain": [
       "0.834701"
      ]
     },
     "execution_count": 179,
     "metadata": {},
     "output_type": "execute_result"
    }
   ],
   "source": [
    "fails450 = (installs450 < 450).mean()\n",
    "fails450"
   ]
  },
  {
   "cell_type": "markdown",
   "metadata": {},
   "source": [
    "#### 7. There's a 70% chance on any given day that there will be at least one food truck at Travis Park. However, you haven't seen a food truck there in 3 days. How unlikely is this?"
   ]
  },
  {
   "cell_type": "code",
   "execution_count": 159,
   "metadata": {},
   "outputs": [
    {
     "data": {
      "text/plain": [
       "array([[0, 1, 1],\n",
       "       [0, 1, 1],\n",
       "       [1, 0, 0],\n",
       "       ...,\n",
       "       [1, 1, 0],\n",
       "       [0, 1, 1],\n",
       "       [1, 1, 0]])"
      ]
     },
     "execution_count": 159,
     "metadata": {},
     "output_type": "execute_result"
    }
   ],
   "source": [
    "truck = 0.7\n",
    "no_truck = 1 - truck\n",
    "\n",
    "outcomes = [1,0]\n",
    "\n",
    "n_trials = n_rows = 1000000\n",
    "n_days = n_cols = 3\n",
    "\n",
    "data7 = np.random.choice(outcomes, n_trials * n_days, p = [truck, no_truck]).reshape(n_rows, n_cols)\n",
    "data7"
   ]
  },
  {
   "cell_type": "code",
   "execution_count": 160,
   "metadata": {},
   "outputs": [
    {
     "data": {
      "text/plain": [
       "array([2, 2, 1, ..., 2, 2, 2])"
      ]
     },
     "execution_count": 160,
     "metadata": {},
     "output_type": "execute_result"
    }
   ],
   "source": [
    "truck_totals = data7.sum(axis = 1)\n",
    "truck_totals"
   ]
  },
  {
   "cell_type": "code",
   "execution_count": 161,
   "metadata": {},
   "outputs": [
    {
     "data": {
      "text/plain": [
       "0.027127"
      ]
     },
     "execution_count": 161,
     "metadata": {},
     "output_type": "execute_result"
    }
   ],
   "source": [
    "no_truck_chance = (truck_totals == 0).mean()\n",
    "no_truck_chance"
   ]
  },
  {
   "cell_type": "markdown",
   "metadata": {},
   "source": [
    "#### How likely is it that a food truck will show up sometime this week?"
   ]
  },
  {
   "cell_type": "code",
   "execution_count": 162,
   "metadata": {},
   "outputs": [
    {
     "data": {
      "text/plain": [
       "array([[0, 0, 1, ..., 1, 1, 0],\n",
       "       [1, 0, 1, ..., 1, 1, 1],\n",
       "       [0, 1, 0, ..., 0, 1, 0],\n",
       "       ...,\n",
       "       [1, 1, 0, ..., 1, 1, 1],\n",
       "       [1, 1, 1, ..., 0, 1, 1],\n",
       "       [0, 0, 0, ..., 1, 1, 1]])"
      ]
     },
     "execution_count": 162,
     "metadata": {},
     "output_type": "execute_result"
    }
   ],
   "source": [
    "truck = 0.7\n",
    "no_truck = 1 - truck\n",
    "\n",
    "outcomes = [1,0]\n",
    "\n",
    "n_trials = n_rows = 1000000\n",
    "n_days = n_cols = 7\n",
    "\n",
    "data7days = np.random.choice(outcomes, n_trials * n_days, p = [truck, no_truck]).reshape(n_rows, n_cols)\n",
    "data7days"
   ]
  },
  {
   "cell_type": "code",
   "execution_count": 163,
   "metadata": {},
   "outputs": [
    {
     "data": {
      "text/plain": [
       "array([3, 6, 2, ..., 6, 6, 4])"
      ]
     },
     "execution_count": 163,
     "metadata": {},
     "output_type": "execute_result"
    }
   ],
   "source": [
    "truck7days_totals = data7days.sum(axis = 1)\n",
    "truck7days_totals"
   ]
  },
  {
   "cell_type": "code",
   "execution_count": 164,
   "metadata": {},
   "outputs": [
    {
     "data": {
      "text/plain": [
       "0.972873"
      ]
     },
     "execution_count": 164,
     "metadata": {},
     "output_type": "execute_result"
    }
   ],
   "source": [
    "truck7days_chance = (truck_totals > 0).mean()\n",
    "truck7days_chance"
   ]
  },
  {
   "cell_type": "markdown",
   "metadata": {},
   "source": [
    "#### 8. If 23 people are in the same room, what are the odds that two of them share a birthday? "
   ]
  },
  {
   "cell_type": "code",
   "execution_count": 165,
   "metadata": {},
   "outputs": [
    {
     "data": {
      "text/plain": [
       "array([[312,  25, 134, ..., 225, 356,  23],\n",
       "       [238, 181, 144, ..., 149, 143,  34],\n",
       "       [318, 118, 202, ...,  81, 209, 115],\n",
       "       ...,\n",
       "       [134, 282, 238, ..., 206, 153, 260],\n",
       "       [365, 252,   3, ...,  35, 233, 145],\n",
       "       [166, 309,  19, ..., 325,  25, 167]])"
      ]
     },
     "execution_count": 165,
     "metadata": {},
     "output_type": "execute_result"
    }
   ],
   "source": [
    "bday = range(1,366)\n",
    "\n",
    "n_trials = n_rows = 1000000\n",
    "n_people = n_cols = 23\n",
    "\n",
    "data8 = np.random.choice(bday, n_trials * n_people).reshape(n_rows, n_cols)\n",
    "data8"
   ]
  },
  {
   "cell_type": "code",
   "execution_count": 166,
   "metadata": {},
   "outputs": [
    {
     "data": {
      "text/html": [
       "<div>\n",
       "<style scoped>\n",
       "    .dataframe tbody tr th:only-of-type {\n",
       "        vertical-align: middle;\n",
       "    }\n",
       "\n",
       "    .dataframe tbody tr th {\n",
       "        vertical-align: top;\n",
       "    }\n",
       "\n",
       "    .dataframe thead th {\n",
       "        text-align: right;\n",
       "    }\n",
       "</style>\n",
       "<table border=\"1\" class=\"dataframe\">\n",
       "  <thead>\n",
       "    <tr style=\"text-align: right;\">\n",
       "      <th></th>\n",
       "      <th>0</th>\n",
       "      <th>1</th>\n",
       "      <th>2</th>\n",
       "      <th>3</th>\n",
       "      <th>4</th>\n",
       "      <th>5</th>\n",
       "      <th>6</th>\n",
       "      <th>7</th>\n",
       "      <th>8</th>\n",
       "      <th>9</th>\n",
       "      <th>...</th>\n",
       "      <th>13</th>\n",
       "      <th>14</th>\n",
       "      <th>15</th>\n",
       "      <th>16</th>\n",
       "      <th>17</th>\n",
       "      <th>18</th>\n",
       "      <th>19</th>\n",
       "      <th>20</th>\n",
       "      <th>21</th>\n",
       "      <th>22</th>\n",
       "    </tr>\n",
       "  </thead>\n",
       "  <tbody>\n",
       "    <tr>\n",
       "      <th>0</th>\n",
       "      <td>312</td>\n",
       "      <td>25</td>\n",
       "      <td>134</td>\n",
       "      <td>208</td>\n",
       "      <td>117</td>\n",
       "      <td>147</td>\n",
       "      <td>259</td>\n",
       "      <td>165</td>\n",
       "      <td>44</td>\n",
       "      <td>276</td>\n",
       "      <td>...</td>\n",
       "      <td>137</td>\n",
       "      <td>92</td>\n",
       "      <td>334</td>\n",
       "      <td>146</td>\n",
       "      <td>286</td>\n",
       "      <td>328</td>\n",
       "      <td>112</td>\n",
       "      <td>225</td>\n",
       "      <td>356</td>\n",
       "      <td>23</td>\n",
       "    </tr>\n",
       "    <tr>\n",
       "      <th>1</th>\n",
       "      <td>238</td>\n",
       "      <td>181</td>\n",
       "      <td>144</td>\n",
       "      <td>50</td>\n",
       "      <td>360</td>\n",
       "      <td>72</td>\n",
       "      <td>156</td>\n",
       "      <td>165</td>\n",
       "      <td>223</td>\n",
       "      <td>363</td>\n",
       "      <td>...</td>\n",
       "      <td>160</td>\n",
       "      <td>308</td>\n",
       "      <td>337</td>\n",
       "      <td>360</td>\n",
       "      <td>16</td>\n",
       "      <td>258</td>\n",
       "      <td>358</td>\n",
       "      <td>149</td>\n",
       "      <td>143</td>\n",
       "      <td>34</td>\n",
       "    </tr>\n",
       "    <tr>\n",
       "      <th>2</th>\n",
       "      <td>318</td>\n",
       "      <td>118</td>\n",
       "      <td>202</td>\n",
       "      <td>239</td>\n",
       "      <td>145</td>\n",
       "      <td>115</td>\n",
       "      <td>365</td>\n",
       "      <td>96</td>\n",
       "      <td>126</td>\n",
       "      <td>356</td>\n",
       "      <td>...</td>\n",
       "      <td>2</td>\n",
       "      <td>333</td>\n",
       "      <td>220</td>\n",
       "      <td>217</td>\n",
       "      <td>8</td>\n",
       "      <td>116</td>\n",
       "      <td>120</td>\n",
       "      <td>81</td>\n",
       "      <td>209</td>\n",
       "      <td>115</td>\n",
       "    </tr>\n",
       "    <tr>\n",
       "      <th>3</th>\n",
       "      <td>70</td>\n",
       "      <td>340</td>\n",
       "      <td>142</td>\n",
       "      <td>301</td>\n",
       "      <td>46</td>\n",
       "      <td>73</td>\n",
       "      <td>213</td>\n",
       "      <td>73</td>\n",
       "      <td>339</td>\n",
       "      <td>270</td>\n",
       "      <td>...</td>\n",
       "      <td>321</td>\n",
       "      <td>42</td>\n",
       "      <td>68</td>\n",
       "      <td>21</td>\n",
       "      <td>181</td>\n",
       "      <td>249</td>\n",
       "      <td>263</td>\n",
       "      <td>84</td>\n",
       "      <td>40</td>\n",
       "      <td>189</td>\n",
       "    </tr>\n",
       "    <tr>\n",
       "      <th>4</th>\n",
       "      <td>55</td>\n",
       "      <td>193</td>\n",
       "      <td>156</td>\n",
       "      <td>325</td>\n",
       "      <td>190</td>\n",
       "      <td>233</td>\n",
       "      <td>205</td>\n",
       "      <td>117</td>\n",
       "      <td>31</td>\n",
       "      <td>284</td>\n",
       "      <td>...</td>\n",
       "      <td>301</td>\n",
       "      <td>156</td>\n",
       "      <td>329</td>\n",
       "      <td>10</td>\n",
       "      <td>86</td>\n",
       "      <td>342</td>\n",
       "      <td>21</td>\n",
       "      <td>77</td>\n",
       "      <td>278</td>\n",
       "      <td>106</td>\n",
       "    </tr>\n",
       "  </tbody>\n",
       "</table>\n",
       "<p>5 rows × 23 columns</p>\n",
       "</div>"
      ],
      "text/plain": [
       "    0    1    2    3    4    5    6    7    8    9   ...   13   14   15   16  \\\n",
       "0  312   25  134  208  117  147  259  165   44  276  ...  137   92  334  146   \n",
       "1  238  181  144   50  360   72  156  165  223  363  ...  160  308  337  360   \n",
       "2  318  118  202  239  145  115  365   96  126  356  ...    2  333  220  217   \n",
       "3   70  340  142  301   46   73  213   73  339  270  ...  321   42   68   21   \n",
       "4   55  193  156  325  190  233  205  117   31  284  ...  301  156  329   10   \n",
       "\n",
       "    17   18   19   20   21   22  \n",
       "0  286  328  112  225  356   23  \n",
       "1   16  258  358  149  143   34  \n",
       "2    8  116  120   81  209  115  \n",
       "3  181  249  263   84   40  189  \n",
       "4   86  342   21   77  278  106  \n",
       "\n",
       "[5 rows x 23 columns]"
      ]
     },
     "execution_count": 166,
     "metadata": {},
     "output_type": "execute_result"
    }
   ],
   "source": [
    "bdays23_df = pd.DataFrame(data8)\n",
    "bdays23_df.head()"
   ]
  },
  {
   "cell_type": "code",
   "execution_count": 167,
   "metadata": {},
   "outputs": [
    {
     "data": {
      "text/plain": [
       "0         23\n",
       "1         22\n",
       "2         22\n",
       "3         22\n",
       "4         22\n",
       "          ..\n",
       "999995    23\n",
       "999996    22\n",
       "999997    22\n",
       "999998    23\n",
       "999999    22\n",
       "Length: 1000000, dtype: int64"
      ]
     },
     "execution_count": 167,
     "metadata": {},
     "output_type": "execute_result"
    }
   ],
   "source": [
    "same_day23 = bdays23_df.nunique(axis = 1)\n",
    "same_day23"
   ]
  },
  {
   "cell_type": "code",
   "execution_count": 168,
   "metadata": {},
   "outputs": [
    {
     "data": {
      "text/plain": [
       "0.506959"
      ]
     },
     "execution_count": 168,
     "metadata": {},
     "output_type": "execute_result"
    }
   ],
   "source": [
    "same23 = (same_day23 < 23).mean()\n",
    "same23"
   ]
  },
  {
   "cell_type": "markdown",
   "metadata": {},
   "source": [
    "#### What if it's 20 people?"
   ]
  },
  {
   "cell_type": "code",
   "execution_count": 169,
   "metadata": {},
   "outputs": [
    {
     "data": {
      "text/plain": [
       "array([[148, 263, 182, ...,  24,  23,  18],\n",
       "       [109, 186,  27, ..., 124, 356, 145],\n",
       "       [120, 158, 223, ...,  44, 320,  39],\n",
       "       ...,\n",
       "       [ 70, 362, 231, ..., 214, 283, 210],\n",
       "       [ 19, 231, 342, ..., 262, 156, 311],\n",
       "       [326,  33, 198, ...,   9, 316, 137]])"
      ]
     },
     "execution_count": 169,
     "metadata": {},
     "output_type": "execute_result"
    }
   ],
   "source": [
    "bday = range(1,366)\n",
    "\n",
    "n_trials = n_rows = 1000000\n",
    "n_people = n_cols = 20\n",
    "\n",
    "data20 = np.random.choice(bday, n_trials * n_people).reshape(n_rows, n_cols)\n",
    "data20"
   ]
  },
  {
   "cell_type": "code",
   "execution_count": 170,
   "metadata": {},
   "outputs": [
    {
     "data": {
      "text/html": [
       "<div>\n",
       "<style scoped>\n",
       "    .dataframe tbody tr th:only-of-type {\n",
       "        vertical-align: middle;\n",
       "    }\n",
       "\n",
       "    .dataframe tbody tr th {\n",
       "        vertical-align: top;\n",
       "    }\n",
       "\n",
       "    .dataframe thead th {\n",
       "        text-align: right;\n",
       "    }\n",
       "</style>\n",
       "<table border=\"1\" class=\"dataframe\">\n",
       "  <thead>\n",
       "    <tr style=\"text-align: right;\">\n",
       "      <th></th>\n",
       "      <th>0</th>\n",
       "      <th>1</th>\n",
       "      <th>2</th>\n",
       "      <th>3</th>\n",
       "      <th>4</th>\n",
       "      <th>5</th>\n",
       "      <th>6</th>\n",
       "      <th>7</th>\n",
       "      <th>8</th>\n",
       "      <th>9</th>\n",
       "      <th>10</th>\n",
       "      <th>11</th>\n",
       "      <th>12</th>\n",
       "      <th>13</th>\n",
       "      <th>14</th>\n",
       "      <th>15</th>\n",
       "      <th>16</th>\n",
       "      <th>17</th>\n",
       "      <th>18</th>\n",
       "      <th>19</th>\n",
       "    </tr>\n",
       "  </thead>\n",
       "  <tbody>\n",
       "    <tr>\n",
       "      <th>0</th>\n",
       "      <td>148</td>\n",
       "      <td>263</td>\n",
       "      <td>182</td>\n",
       "      <td>86</td>\n",
       "      <td>229</td>\n",
       "      <td>76</td>\n",
       "      <td>146</td>\n",
       "      <td>212</td>\n",
       "      <td>175</td>\n",
       "      <td>331</td>\n",
       "      <td>222</td>\n",
       "      <td>181</td>\n",
       "      <td>254</td>\n",
       "      <td>106</td>\n",
       "      <td>29</td>\n",
       "      <td>291</td>\n",
       "      <td>7</td>\n",
       "      <td>24</td>\n",
       "      <td>23</td>\n",
       "      <td>18</td>\n",
       "    </tr>\n",
       "    <tr>\n",
       "      <th>1</th>\n",
       "      <td>109</td>\n",
       "      <td>186</td>\n",
       "      <td>27</td>\n",
       "      <td>86</td>\n",
       "      <td>198</td>\n",
       "      <td>235</td>\n",
       "      <td>75</td>\n",
       "      <td>65</td>\n",
       "      <td>177</td>\n",
       "      <td>34</td>\n",
       "      <td>22</td>\n",
       "      <td>299</td>\n",
       "      <td>156</td>\n",
       "      <td>196</td>\n",
       "      <td>140</td>\n",
       "      <td>261</td>\n",
       "      <td>326</td>\n",
       "      <td>124</td>\n",
       "      <td>356</td>\n",
       "      <td>145</td>\n",
       "    </tr>\n",
       "    <tr>\n",
       "      <th>2</th>\n",
       "      <td>120</td>\n",
       "      <td>158</td>\n",
       "      <td>223</td>\n",
       "      <td>253</td>\n",
       "      <td>10</td>\n",
       "      <td>18</td>\n",
       "      <td>175</td>\n",
       "      <td>102</td>\n",
       "      <td>61</td>\n",
       "      <td>265</td>\n",
       "      <td>329</td>\n",
       "      <td>321</td>\n",
       "      <td>353</td>\n",
       "      <td>115</td>\n",
       "      <td>104</td>\n",
       "      <td>106</td>\n",
       "      <td>152</td>\n",
       "      <td>44</td>\n",
       "      <td>320</td>\n",
       "      <td>39</td>\n",
       "    </tr>\n",
       "    <tr>\n",
       "      <th>3</th>\n",
       "      <td>72</td>\n",
       "      <td>152</td>\n",
       "      <td>180</td>\n",
       "      <td>358</td>\n",
       "      <td>226</td>\n",
       "      <td>275</td>\n",
       "      <td>300</td>\n",
       "      <td>270</td>\n",
       "      <td>309</td>\n",
       "      <td>262</td>\n",
       "      <td>218</td>\n",
       "      <td>176</td>\n",
       "      <td>42</td>\n",
       "      <td>206</td>\n",
       "      <td>313</td>\n",
       "      <td>48</td>\n",
       "      <td>102</td>\n",
       "      <td>325</td>\n",
       "      <td>312</td>\n",
       "      <td>246</td>\n",
       "    </tr>\n",
       "    <tr>\n",
       "      <th>4</th>\n",
       "      <td>220</td>\n",
       "      <td>127</td>\n",
       "      <td>132</td>\n",
       "      <td>95</td>\n",
       "      <td>122</td>\n",
       "      <td>263</td>\n",
       "      <td>80</td>\n",
       "      <td>251</td>\n",
       "      <td>357</td>\n",
       "      <td>10</td>\n",
       "      <td>31</td>\n",
       "      <td>107</td>\n",
       "      <td>142</td>\n",
       "      <td>244</td>\n",
       "      <td>83</td>\n",
       "      <td>12</td>\n",
       "      <td>220</td>\n",
       "      <td>9</td>\n",
       "      <td>284</td>\n",
       "      <td>220</td>\n",
       "    </tr>\n",
       "  </tbody>\n",
       "</table>\n",
       "</div>"
      ],
      "text/plain": [
       "    0    1    2    3    4    5    6    7    8    9    10   11   12   13   14  \\\n",
       "0  148  263  182   86  229   76  146  212  175  331  222  181  254  106   29   \n",
       "1  109  186   27   86  198  235   75   65  177   34   22  299  156  196  140   \n",
       "2  120  158  223  253   10   18  175  102   61  265  329  321  353  115  104   \n",
       "3   72  152  180  358  226  275  300  270  309  262  218  176   42  206  313   \n",
       "4  220  127  132   95  122  263   80  251  357   10   31  107  142  244   83   \n",
       "\n",
       "    15   16   17   18   19  \n",
       "0  291    7   24   23   18  \n",
       "1  261  326  124  356  145  \n",
       "2  106  152   44  320   39  \n",
       "3   48  102  325  312  246  \n",
       "4   12  220    9  284  220  "
      ]
     },
     "execution_count": 170,
     "metadata": {},
     "output_type": "execute_result"
    }
   ],
   "source": [
    "bdays20_df = pd.DataFrame(data20)\n",
    "bdays20_df.head()"
   ]
  },
  {
   "cell_type": "code",
   "execution_count": 171,
   "metadata": {},
   "outputs": [
    {
     "data": {
      "text/plain": [
       "0         20\n",
       "1         20\n",
       "2         20\n",
       "3         20\n",
       "4         18\n",
       "          ..\n",
       "999995    19\n",
       "999996    20\n",
       "999997    20\n",
       "999998    19\n",
       "999999    20\n",
       "Length: 1000000, dtype: int64"
      ]
     },
     "execution_count": 171,
     "metadata": {},
     "output_type": "execute_result"
    }
   ],
   "source": [
    "same_day20 = bdays20_df.nunique(axis = 1)\n",
    "same_day20"
   ]
  },
  {
   "cell_type": "code",
   "execution_count": 172,
   "metadata": {},
   "outputs": [
    {
     "data": {
      "text/plain": [
       "0.411682"
      ]
     },
     "execution_count": 172,
     "metadata": {},
     "output_type": "execute_result"
    }
   ],
   "source": [
    "same20 = (same_day20 < 20).mean()\n",
    "same20"
   ]
  },
  {
   "cell_type": "markdown",
   "metadata": {},
   "source": [
    "####  40?"
   ]
  },
  {
   "cell_type": "code",
   "execution_count": 173,
   "metadata": {},
   "outputs": [
    {
     "data": {
      "text/plain": [
       "array([[362, 133, 171, ..., 111,  70, 313],\n",
       "       [106, 194, 308, ...,  34, 245, 256],\n",
       "       [130, 154,  46, ..., 183, 121,  12],\n",
       "       ...,\n",
       "       [358, 121, 163, ..., 255, 343, 199],\n",
       "       [329,  95, 267, ..., 252,  36, 121],\n",
       "       [261,   1,  31, ...,  85, 279, 105]])"
      ]
     },
     "execution_count": 173,
     "metadata": {},
     "output_type": "execute_result"
    }
   ],
   "source": [
    "bday = range(1,366)\n",
    "\n",
    "n_trials = n_rows = 1000000\n",
    "n_people = n_cols = 40\n",
    "\n",
    "data40 = np.random.choice(bday, n_trials * n_people).reshape(n_rows, n_cols)\n",
    "data40"
   ]
  },
  {
   "cell_type": "code",
   "execution_count": 174,
   "metadata": {},
   "outputs": [
    {
     "data": {
      "text/html": [
       "<div>\n",
       "<style scoped>\n",
       "    .dataframe tbody tr th:only-of-type {\n",
       "        vertical-align: middle;\n",
       "    }\n",
       "\n",
       "    .dataframe tbody tr th {\n",
       "        vertical-align: top;\n",
       "    }\n",
       "\n",
       "    .dataframe thead th {\n",
       "        text-align: right;\n",
       "    }\n",
       "</style>\n",
       "<table border=\"1\" class=\"dataframe\">\n",
       "  <thead>\n",
       "    <tr style=\"text-align: right;\">\n",
       "      <th></th>\n",
       "      <th>0</th>\n",
       "      <th>1</th>\n",
       "      <th>2</th>\n",
       "      <th>3</th>\n",
       "      <th>4</th>\n",
       "      <th>5</th>\n",
       "      <th>6</th>\n",
       "      <th>7</th>\n",
       "      <th>8</th>\n",
       "      <th>9</th>\n",
       "      <th>...</th>\n",
       "      <th>30</th>\n",
       "      <th>31</th>\n",
       "      <th>32</th>\n",
       "      <th>33</th>\n",
       "      <th>34</th>\n",
       "      <th>35</th>\n",
       "      <th>36</th>\n",
       "      <th>37</th>\n",
       "      <th>38</th>\n",
       "      <th>39</th>\n",
       "    </tr>\n",
       "  </thead>\n",
       "  <tbody>\n",
       "    <tr>\n",
       "      <th>0</th>\n",
       "      <td>362</td>\n",
       "      <td>133</td>\n",
       "      <td>171</td>\n",
       "      <td>3</td>\n",
       "      <td>270</td>\n",
       "      <td>300</td>\n",
       "      <td>68</td>\n",
       "      <td>133</td>\n",
       "      <td>106</td>\n",
       "      <td>113</td>\n",
       "      <td>...</td>\n",
       "      <td>282</td>\n",
       "      <td>29</td>\n",
       "      <td>209</td>\n",
       "      <td>143</td>\n",
       "      <td>74</td>\n",
       "      <td>347</td>\n",
       "      <td>134</td>\n",
       "      <td>111</td>\n",
       "      <td>70</td>\n",
       "      <td>313</td>\n",
       "    </tr>\n",
       "    <tr>\n",
       "      <th>1</th>\n",
       "      <td>106</td>\n",
       "      <td>194</td>\n",
       "      <td>308</td>\n",
       "      <td>149</td>\n",
       "      <td>243</td>\n",
       "      <td>111</td>\n",
       "      <td>104</td>\n",
       "      <td>88</td>\n",
       "      <td>76</td>\n",
       "      <td>226</td>\n",
       "      <td>...</td>\n",
       "      <td>302</td>\n",
       "      <td>55</td>\n",
       "      <td>307</td>\n",
       "      <td>17</td>\n",
       "      <td>93</td>\n",
       "      <td>283</td>\n",
       "      <td>138</td>\n",
       "      <td>34</td>\n",
       "      <td>245</td>\n",
       "      <td>256</td>\n",
       "    </tr>\n",
       "    <tr>\n",
       "      <th>2</th>\n",
       "      <td>130</td>\n",
       "      <td>154</td>\n",
       "      <td>46</td>\n",
       "      <td>191</td>\n",
       "      <td>70</td>\n",
       "      <td>274</td>\n",
       "      <td>178</td>\n",
       "      <td>132</td>\n",
       "      <td>63</td>\n",
       "      <td>85</td>\n",
       "      <td>...</td>\n",
       "      <td>131</td>\n",
       "      <td>84</td>\n",
       "      <td>346</td>\n",
       "      <td>69</td>\n",
       "      <td>192</td>\n",
       "      <td>61</td>\n",
       "      <td>153</td>\n",
       "      <td>183</td>\n",
       "      <td>121</td>\n",
       "      <td>12</td>\n",
       "    </tr>\n",
       "    <tr>\n",
       "      <th>3</th>\n",
       "      <td>317</td>\n",
       "      <td>264</td>\n",
       "      <td>3</td>\n",
       "      <td>7</td>\n",
       "      <td>96</td>\n",
       "      <td>320</td>\n",
       "      <td>290</td>\n",
       "      <td>308</td>\n",
       "      <td>20</td>\n",
       "      <td>124</td>\n",
       "      <td>...</td>\n",
       "      <td>74</td>\n",
       "      <td>181</td>\n",
       "      <td>95</td>\n",
       "      <td>166</td>\n",
       "      <td>124</td>\n",
       "      <td>324</td>\n",
       "      <td>34</td>\n",
       "      <td>260</td>\n",
       "      <td>348</td>\n",
       "      <td>31</td>\n",
       "    </tr>\n",
       "    <tr>\n",
       "      <th>4</th>\n",
       "      <td>275</td>\n",
       "      <td>216</td>\n",
       "      <td>265</td>\n",
       "      <td>316</td>\n",
       "      <td>337</td>\n",
       "      <td>182</td>\n",
       "      <td>280</td>\n",
       "      <td>187</td>\n",
       "      <td>34</td>\n",
       "      <td>325</td>\n",
       "      <td>...</td>\n",
       "      <td>189</td>\n",
       "      <td>29</td>\n",
       "      <td>261</td>\n",
       "      <td>157</td>\n",
       "      <td>32</td>\n",
       "      <td>3</td>\n",
       "      <td>305</td>\n",
       "      <td>162</td>\n",
       "      <td>302</td>\n",
       "      <td>260</td>\n",
       "    </tr>\n",
       "  </tbody>\n",
       "</table>\n",
       "<p>5 rows × 40 columns</p>\n",
       "</div>"
      ],
      "text/plain": [
       "    0    1    2    3    4    5    6    7    8    9   ...   30   31   32   33  \\\n",
       "0  362  133  171    3  270  300   68  133  106  113  ...  282   29  209  143   \n",
       "1  106  194  308  149  243  111  104   88   76  226  ...  302   55  307   17   \n",
       "2  130  154   46  191   70  274  178  132   63   85  ...  131   84  346   69   \n",
       "3  317  264    3    7   96  320  290  308   20  124  ...   74  181   95  166   \n",
       "4  275  216  265  316  337  182  280  187   34  325  ...  189   29  261  157   \n",
       "\n",
       "    34   35   36   37   38   39  \n",
       "0   74  347  134  111   70  313  \n",
       "1   93  283  138   34  245  256  \n",
       "2  192   61  153  183  121   12  \n",
       "3  124  324   34  260  348   31  \n",
       "4   32    3  305  162  302  260  \n",
       "\n",
       "[5 rows x 40 columns]"
      ]
     },
     "execution_count": 174,
     "metadata": {},
     "output_type": "execute_result"
    }
   ],
   "source": [
    "bdays40_df = pd.DataFrame(data40)\n",
    "bdays40_df.head()"
   ]
  },
  {
   "cell_type": "code",
   "execution_count": 175,
   "metadata": {},
   "outputs": [
    {
     "data": {
      "text/plain": [
       "0         37\n",
       "1         38\n",
       "2         39\n",
       "3         39\n",
       "4         40\n",
       "          ..\n",
       "999995    36\n",
       "999996    40\n",
       "999997    38\n",
       "999998    38\n",
       "999999    37\n",
       "Length: 1000000, dtype: int64"
      ]
     },
     "execution_count": 175,
     "metadata": {},
     "output_type": "execute_result"
    }
   ],
   "source": [
    "same_day40 = bdays40_df.nunique(axis = 1)\n",
    "same_day40"
   ]
  },
  {
   "cell_type": "code",
   "execution_count": 176,
   "metadata": {},
   "outputs": [
    {
     "data": {
      "text/plain": [
       "0.891344"
      ]
     },
     "execution_count": 176,
     "metadata": {},
     "output_type": "execute_result"
    }
   ],
   "source": [
    "same40 = (same_day40 < 40).mean()\n",
    "same40"
   ]
  },
  {
   "cell_type": "code",
   "execution_count": null,
   "metadata": {},
   "outputs": [],
   "source": []
  }
 ],
 "metadata": {
  "kernelspec": {
   "display_name": "Python 3",
   "language": "python",
   "name": "python3"
  },
  "language_info": {
   "codemirror_mode": {
    "name": "ipython",
    "version": 3
   },
   "file_extension": ".py",
   "mimetype": "text/x-python",
   "name": "python",
   "nbconvert_exporter": "python",
   "pygments_lexer": "ipython3",
   "version": "3.8.5"
  }
 },
 "nbformat": 4,
 "nbformat_minor": 4
}
