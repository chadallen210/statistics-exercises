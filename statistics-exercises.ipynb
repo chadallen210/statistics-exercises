{
 "cells": [
  {
   "cell_type": "markdown",
   "metadata": {},
   "source": [
    "# Statistics Exercises"
   ]
  },
  {
   "cell_type": "markdown",
   "metadata": {},
   "source": [
    "#### 1. How likely is it that you roll doubles when rolling two dice?"
   ]
  },
  {
   "cell_type": "code",
   "execution_count": 8,
   "metadata": {},
   "outputs": [],
   "source": [
    "import numpy as np\n",
    "import pandas as pd\n",
    "\n",
    "np.random.seed(1234)"
   ]
  },
  {
   "cell_type": "code",
   "execution_count": 64,
   "metadata": {},
   "outputs": [
    {
     "data": {
      "text/plain": [
       "array([[1, 1],\n",
       "       [1, 6],\n",
       "       [6, 4],\n",
       "       ...,\n",
       "       [1, 1],\n",
       "       [2, 5],\n",
       "       [1, 5]])"
      ]
     },
     "execution_count": 64,
     "metadata": {},
     "output_type": "execute_result"
    }
   ],
   "source": [
    "possible_outcomes = [1,2,3,4,5,6]\n",
    "\n",
    "n_dice = n_cols = 2\n",
    "num_trials = n_rows = 10 ** 5\n",
    "\n",
    "data1 = np.random.choice(possible_outcomes, num_trials * n_dice).reshape(num_trials, n_dice)\n",
    "data1"
   ]
  },
  {
   "cell_type": "code",
   "execution_count": 65,
   "metadata": {},
   "outputs": [
    {
     "data": {
      "text/plain": [
       "0.16781"
      ]
     },
     "execution_count": 65,
     "metadata": {},
     "output_type": "execute_result"
    }
   ],
   "source": [
    "pd.DataFrame(data1).apply(lambda x: x[0] == x[1] in x.values, axis = 1).mean()"
   ]
  },
  {
   "cell_type": "markdown",
   "metadata": {},
   "source": [
    "#### 2. If you flip 8 coins, what is the probability of getting exactly 3 heads? What is the probability of getting more than 3 heads?"
   ]
  },
  {
   "cell_type": "code",
   "execution_count": 9,
   "metadata": {},
   "outputs": [
    {
     "data": {
      "text/plain": [
       "array([[1, 1, 0, ..., 0, 0, 1],\n",
       "       [1, 1, 1, ..., 0, 1, 0],\n",
       "       [0, 0, 0, ..., 0, 0, 0],\n",
       "       ...,\n",
       "       [0, 1, 1, ..., 1, 1, 0],\n",
       "       [0, 1, 1, ..., 1, 0, 1],\n",
       "       [1, 1, 1, ..., 0, 1, 1]])"
      ]
     },
     "execution_count": 9,
     "metadata": {},
     "output_type": "execute_result"
    }
   ],
   "source": [
    "heads = 1\n",
    "tails = 0\n",
    "outcomes = [0,1]\n",
    "\n",
    "n_trials = n_rows = 10000\n",
    "n_coins = n_cols = 8\n",
    "\n",
    "data2 = np.random.choice(outcomes, n_trials * n_coins).reshape(n_rows, n_cols)\n",
    "data2"
   ]
  },
  {
   "cell_type": "code",
   "execution_count": 10,
   "metadata": {},
   "outputs": [
    {
     "data": {
      "text/plain": [
       "array([4, 5, 0, ..., 5, 5, 6])"
      ]
     },
     "execution_count": 10,
     "metadata": {},
     "output_type": "execute_result"
    }
   ],
   "source": [
    "total_heads = data2.sum(axis = 1)\n",
    "total_heads"
   ]
  },
  {
   "cell_type": "code",
   "execution_count": 11,
   "metadata": {},
   "outputs": [
    {
     "data": {
      "text/plain": [
       "0.2159"
      ]
     },
     "execution_count": 11,
     "metadata": {},
     "output_type": "execute_result"
    }
   ],
   "source": [
    "three_heads = (total_heads == 3).mean()\n",
    "three_heads"
   ]
  },
  {
   "cell_type": "code",
   "execution_count": 12,
   "metadata": {},
   "outputs": [
    {
     "data": {
      "text/plain": [
       "0.6338"
      ]
     },
     "execution_count": 12,
     "metadata": {},
     "output_type": "execute_result"
    }
   ],
   "source": [
    "more_than_three = (total_heads > 3).mean()\n",
    "more_than_three"
   ]
  },
  {
   "cell_type": "markdown",
   "metadata": {},
   "source": [
    "#### 3. There are approximitely 3 web development cohorts for every 1 data science cohort at Codeup. Assuming that Codeup randomly selects an alumni to put on a billboard, what are the odds that the two billboards I drive past both have data science students on them?"
   ]
  },
  {
   "cell_type": "code",
   "execution_count": 18,
   "metadata": {},
   "outputs": [
    {
     "data": {
      "text/plain": [
       "array([[3, 3],\n",
       "       [3, 1],\n",
       "       [3, 3],\n",
       "       ...,\n",
       "       [3, 1],\n",
       "       [3, 3],\n",
       "       [3, 3]])"
      ]
     },
     "execution_count": 18,
     "metadata": {},
     "output_type": "execute_result"
    }
   ],
   "source": [
    "web = 3\n",
    "data = 1\n",
    "outcomes = [3,1]\n",
    "\n",
    "prob_web = 0.75\n",
    "prob_ds = 1 - prob_web\n",
    "\n",
    "n_trials = n_rows = 10000\n",
    "n_billboards = n_cols = 2\n",
    "\n",
    "data3 = np.random.choice(outcomes, n_trials * n_billboards, p = [prob_web, prob_ds]).reshape(n_rows, n_cols)\n",
    "data3"
   ]
  },
  {
   "cell_type": "code",
   "execution_count": 19,
   "metadata": {},
   "outputs": [
    {
     "data": {
      "text/plain": [
       "array([6, 4, 6, ..., 4, 6, 6])"
      ]
     },
     "execution_count": 19,
     "metadata": {},
     "output_type": "execute_result"
    }
   ],
   "source": [
    "total_alums = data3.sum(axis = 1)\n",
    "total_alums"
   ]
  },
  {
   "cell_type": "code",
   "execution_count": 20,
   "metadata": {},
   "outputs": [
    {
     "data": {
      "text/plain": [
       "0.0683"
      ]
     },
     "execution_count": 20,
     "metadata": {},
     "output_type": "execute_result"
    }
   ],
   "source": [
    "two_ds = (total_alums == 2).mean()\n",
    "two_ds"
   ]
  },
  {
   "cell_type": "markdown",
   "metadata": {},
   "source": [
    "#### 4. Codeup students buy, on average, 3 poptart packages (+- 1.5) a day from the snack vending machine. If on monday the machine is restocked with 17 poptart packages, how likely is it that I will be able to buy some poptarts on Friday afternoon?"
   ]
  },
  {
   "cell_type": "code",
   "execution_count": 35,
   "metadata": {},
   "outputs": [
    {
     "data": {
      "text/plain": [
       "array([[ 3.,  3.,  1.,  1.,  4.],\n",
       "       [ 4.,  4.,  1.,  2.,  2.],\n",
       "       [ 1.,  5.,  2.,  4., -0.],\n",
       "       ...,\n",
       "       [ 1.,  2.,  3.,  5.,  1.],\n",
       "       [ 4.,  0.,  2.,  2.,  2.],\n",
       "       [ 1.,  4.,  2.,  3.,  3.]])"
      ]
     },
     "execution_count": 35,
     "metadata": {},
     "output_type": "execute_result"
    }
   ],
   "source": [
    "n_trials = n_rows = 10000\n",
    "n_days = n_cols = 5\n",
    "\n",
    "data4 = np.round(np.random.normal(3, 1.5, size = (n_trials, n_days)))\n",
    "data4"
   ]
  },
  {
   "cell_type": "code",
   "execution_count": 36,
   "metadata": {},
   "outputs": [
    {
     "data": {
      "text/plain": [
       "array([12., 13., 12., ..., 12., 10., 13.])"
      ]
     },
     "execution_count": 36,
     "metadata": {},
     "output_type": "execute_result"
    }
   ],
   "source": [
    "total_packs = data4.sum(axis = 1)\n",
    "total_packs"
   ]
  },
  {
   "cell_type": "code",
   "execution_count": 37,
   "metadata": {},
   "outputs": [
    {
     "data": {
      "text/plain": [
       "0.6704"
      ]
     },
     "execution_count": 37,
     "metadata": {},
     "output_type": "execute_result"
    }
   ],
   "source": [
    "poptarts = (total_packs < 17).mean()\n",
    "poptarts"
   ]
  },
  {
   "cell_type": "markdown",
   "metadata": {},
   "source": [
    "#### 5. Compare Heights\n",
    "\n",
    "    - Men have an average height of 178 cm and standard deviation of 8cm.\n",
    "    - Women have a mean of 170, sd = 6cm.\n",
    "    - If a man and woman are chosen at random, P(woman taller than man)?"
   ]
  },
  {
   "cell_type": "code",
   "execution_count": 48,
   "metadata": {},
   "outputs": [
    {
     "data": {
      "text/plain": [
       "array([[164.3115971 , 166.45997742],\n",
       "       [172.2472999 , 170.92429178],\n",
       "       [194.08991429, 172.89307431],\n",
       "       ...,\n",
       "       [161.49586611, 176.16147355],\n",
       "       [169.69936859, 171.7387915 ],\n",
       "       [190.90833587, 172.26979774]])"
      ]
     },
     "execution_count": 48,
     "metadata": {},
     "output_type": "execute_result"
    }
   ],
   "source": [
    "n_trials = n_rows = 10000\n",
    "m_and_w = n_cols = 2\n",
    "\n",
    "men_height = np.random.normal(178, 8, n_trials)\n",
    "women_height = np.random.normal(170, 6, n_trials)\n",
    "\n",
    "np.column_stack((men_height, women_height))"
   ]
  },
  {
   "cell_type": "code",
   "execution_count": 49,
   "metadata": {},
   "outputs": [
    {
     "data": {
      "text/plain": [
       "array([ -2.14838032,   1.32300811,  21.19683999, ..., -14.66560745,\n",
       "        -2.03942291,  18.63853813])"
      ]
     },
     "execution_count": 49,
     "metadata": {},
     "output_type": "execute_result"
    }
   ],
   "source": [
    "height_diff = np.subtract(men_height, women_height)\n",
    "height_diff"
   ]
  },
  {
   "cell_type": "code",
   "execution_count": 50,
   "metadata": {},
   "outputs": [
    {
     "data": {
      "text/plain": [
       "0.2138"
      ]
     },
     "execution_count": 50,
     "metadata": {},
     "output_type": "execute_result"
    }
   ],
   "source": [
    "woman_taller = (height_diff < 0).mean()\n",
    "woman_taller"
   ]
  },
  {
   "cell_type": "markdown",
   "metadata": {},
   "source": [
    "#### 6. When installing anaconda on a student's computer, there's a 1 in 250 chance that the download is corrupted and the installation fails. What are the odds that after having 50 students download anaconda, no one has an installation issue? 100 students?"
   ]
  },
  {
   "cell_type": "code",
   "execution_count": 54,
   "metadata": {},
   "outputs": [
    {
     "data": {
      "text/plain": [
       "array([[1, 1, 1, ..., 1, 1, 1],\n",
       "       [1, 1, 1, ..., 1, 1, 1],\n",
       "       [1, 1, 1, ..., 1, 1, 1],\n",
       "       ...,\n",
       "       [1, 1, 1, ..., 1, 1, 1],\n",
       "       [1, 1, 1, ..., 1, 1, 1],\n",
       "       [1, 1, 1, ..., 1, 1, 1]])"
      ]
     },
     "execution_count": 54,
     "metadata": {},
     "output_type": "execute_result"
    }
   ],
   "source": [
    "prob_fail = 1/250\n",
    "prob_success = 1 - prob_fail\n",
    "\n",
    "outcomes = [0,1]\n",
    "\n",
    "n_trials = n_rows = 10000\n",
    "n_downloads = n_cols = 50\n",
    "\n",
    "data6 = np.random.choice(outcomes, n_trials * n_downloads, p = [prob_fail, prob_success]).reshape(n_rows, n_cols)\n",
    "data6"
   ]
  },
  {
   "cell_type": "code",
   "execution_count": 55,
   "metadata": {},
   "outputs": [
    {
     "data": {
      "text/plain": [
       "array([50, 50, 50, ..., 50, 50, 50])"
      ]
     },
     "execution_count": 55,
     "metadata": {},
     "output_type": "execute_result"
    }
   ],
   "source": [
    "installs = data6.sum(axis = 1)\n",
    "installs"
   ]
  },
  {
   "cell_type": "code",
   "execution_count": 56,
   "metadata": {},
   "outputs": [
    {
     "data": {
      "text/plain": [
       "0.1824"
      ]
     },
     "execution_count": 56,
     "metadata": {},
     "output_type": "execute_result"
    }
   ],
   "source": [
    "fails = (installs < 50).mean()\n",
    "fails"
   ]
  },
  {
   "cell_type": "markdown",
   "metadata": {},
   "source": [
    "#### What is the probability that we observe an installation issue within the first 150 students that download anaconda?"
   ]
  },
  {
   "cell_type": "code",
   "execution_count": null,
   "metadata": {},
   "outputs": [],
   "source": []
  },
  {
   "cell_type": "markdown",
   "metadata": {},
   "source": [
    "#### 7. There's a 70% chance on any given day that there will be at least one food truck at Travis Park. However, you haven't seen a food truck there in 3 days. How unlikely is this?"
   ]
  },
  {
   "cell_type": "code",
   "execution_count": 57,
   "metadata": {},
   "outputs": [
    {
     "data": {
      "text/plain": [
       "array([[0, 1, 1],\n",
       "       [0, 1, 1],\n",
       "       [0, 1, 1],\n",
       "       ...,\n",
       "       [1, 1, 1],\n",
       "       [1, 1, 1],\n",
       "       [0, 1, 1]])"
      ]
     },
     "execution_count": 57,
     "metadata": {},
     "output_type": "execute_result"
    }
   ],
   "source": [
    "truck = 0.7\n",
    "no_truck = 1 - truck\n",
    "\n",
    "outcomes = [1,0]\n",
    "\n",
    "n_trials = n_rows = 10000\n",
    "n_days = n_cols = 3\n",
    "\n",
    "data7 = np.random.choice(outcomes, n_trials * n_days, p = [truck, no_truck]).reshape(n_rows, n_cols)\n",
    "data7"
   ]
  },
  {
   "cell_type": "code",
   "execution_count": 58,
   "metadata": {},
   "outputs": [
    {
     "data": {
      "text/plain": [
       "array([2, 2, 2, ..., 3, 3, 2])"
      ]
     },
     "execution_count": 58,
     "metadata": {},
     "output_type": "execute_result"
    }
   ],
   "source": [
    "truck_totals = data7.sum(axis = 1)\n",
    "truck_totals"
   ]
  },
  {
   "cell_type": "code",
   "execution_count": 59,
   "metadata": {},
   "outputs": [
    {
     "data": {
      "text/plain": [
       "0.0265"
      ]
     },
     "execution_count": 59,
     "metadata": {},
     "output_type": "execute_result"
    }
   ],
   "source": [
    "no_truck_chance = (truck_totals == 0).mean()\n",
    "no_truck_chance"
   ]
  },
  {
   "cell_type": "markdown",
   "metadata": {},
   "source": [
    "#### How likely is it that a food truck will show up sometime this week?"
   ]
  },
  {
   "cell_type": "code",
   "execution_count": null,
   "metadata": {},
   "outputs": [],
   "source": []
  },
  {
   "cell_type": "markdown",
   "metadata": {},
   "source": [
    "#### 8. If 23 people are in the same room, what are the odds that two of them share a birthday? What if it's 20 people? 40?"
   ]
  },
  {
   "cell_type": "code",
   "execution_count": 60,
   "metadata": {},
   "outputs": [
    {
     "data": {
      "text/plain": [
       "array([[ 91, 347, 263, ...,  17,  64, 289],\n",
       "       [180, 143, 298, ...,  13, 364, 134],\n",
       "       [ 73, 361,  88, ...,  36,  24, 113],\n",
       "       ...,\n",
       "       [161,  84, 253, ...,  54, 136, 276],\n",
       "       [218, 167,  83, ..., 202, 181, 229],\n",
       "       [281, 115, 340, ..., 149, 327, 146]])"
      ]
     },
     "execution_count": 60,
     "metadata": {},
     "output_type": "execute_result"
    }
   ],
   "source": [
    "bday = range(1,366)\n",
    "\n",
    "n_trials = n_rows = 10000\n",
    "n_people = n_cols = 23\n",
    "\n",
    "data8 = np.random.choice(bday, n_trials * n_people).reshape(n_rows, n_cols)\n",
    "data8"
   ]
  },
  {
   "cell_type": "code",
   "execution_count": 66,
   "metadata": {},
   "outputs": [
    {
     "data": {
      "text/html": [
       "<div>\n",
       "<style scoped>\n",
       "    .dataframe tbody tr th:only-of-type {\n",
       "        vertical-align: middle;\n",
       "    }\n",
       "\n",
       "    .dataframe tbody tr th {\n",
       "        vertical-align: top;\n",
       "    }\n",
       "\n",
       "    .dataframe thead th {\n",
       "        text-align: right;\n",
       "    }\n",
       "</style>\n",
       "<table border=\"1\" class=\"dataframe\">\n",
       "  <thead>\n",
       "    <tr style=\"text-align: right;\">\n",
       "      <th></th>\n",
       "      <th>0</th>\n",
       "      <th>1</th>\n",
       "      <th>2</th>\n",
       "      <th>3</th>\n",
       "      <th>4</th>\n",
       "      <th>5</th>\n",
       "      <th>6</th>\n",
       "      <th>7</th>\n",
       "      <th>8</th>\n",
       "      <th>9</th>\n",
       "      <th>...</th>\n",
       "      <th>13</th>\n",
       "      <th>14</th>\n",
       "      <th>15</th>\n",
       "      <th>16</th>\n",
       "      <th>17</th>\n",
       "      <th>18</th>\n",
       "      <th>19</th>\n",
       "      <th>20</th>\n",
       "      <th>21</th>\n",
       "      <th>22</th>\n",
       "    </tr>\n",
       "  </thead>\n",
       "  <tbody>\n",
       "    <tr>\n",
       "      <th>0</th>\n",
       "      <td>91</td>\n",
       "      <td>347</td>\n",
       "      <td>263</td>\n",
       "      <td>266</td>\n",
       "      <td>324</td>\n",
       "      <td>186</td>\n",
       "      <td>209</td>\n",
       "      <td>349</td>\n",
       "      <td>266</td>\n",
       "      <td>118</td>\n",
       "      <td>...</td>\n",
       "      <td>229</td>\n",
       "      <td>27</td>\n",
       "      <td>27</td>\n",
       "      <td>46</td>\n",
       "      <td>257</td>\n",
       "      <td>246</td>\n",
       "      <td>108</td>\n",
       "      <td>17</td>\n",
       "      <td>64</td>\n",
       "      <td>289</td>\n",
       "    </tr>\n",
       "    <tr>\n",
       "      <th>1</th>\n",
       "      <td>180</td>\n",
       "      <td>143</td>\n",
       "      <td>298</td>\n",
       "      <td>115</td>\n",
       "      <td>110</td>\n",
       "      <td>251</td>\n",
       "      <td>66</td>\n",
       "      <td>86</td>\n",
       "      <td>118</td>\n",
       "      <td>265</td>\n",
       "      <td>...</td>\n",
       "      <td>256</td>\n",
       "      <td>106</td>\n",
       "      <td>246</td>\n",
       "      <td>341</td>\n",
       "      <td>179</td>\n",
       "      <td>273</td>\n",
       "      <td>304</td>\n",
       "      <td>13</td>\n",
       "      <td>364</td>\n",
       "      <td>134</td>\n",
       "    </tr>\n",
       "    <tr>\n",
       "      <th>2</th>\n",
       "      <td>73</td>\n",
       "      <td>361</td>\n",
       "      <td>88</td>\n",
       "      <td>110</td>\n",
       "      <td>240</td>\n",
       "      <td>361</td>\n",
       "      <td>76</td>\n",
       "      <td>131</td>\n",
       "      <td>153</td>\n",
       "      <td>4</td>\n",
       "      <td>...</td>\n",
       "      <td>305</td>\n",
       "      <td>297</td>\n",
       "      <td>36</td>\n",
       "      <td>122</td>\n",
       "      <td>282</td>\n",
       "      <td>67</td>\n",
       "      <td>111</td>\n",
       "      <td>36</td>\n",
       "      <td>24</td>\n",
       "      <td>113</td>\n",
       "    </tr>\n",
       "    <tr>\n",
       "      <th>3</th>\n",
       "      <td>309</td>\n",
       "      <td>224</td>\n",
       "      <td>327</td>\n",
       "      <td>165</td>\n",
       "      <td>321</td>\n",
       "      <td>82</td>\n",
       "      <td>190</td>\n",
       "      <td>138</td>\n",
       "      <td>325</td>\n",
       "      <td>263</td>\n",
       "      <td>...</td>\n",
       "      <td>133</td>\n",
       "      <td>301</td>\n",
       "      <td>296</td>\n",
       "      <td>230</td>\n",
       "      <td>32</td>\n",
       "      <td>292</td>\n",
       "      <td>129</td>\n",
       "      <td>200</td>\n",
       "      <td>263</td>\n",
       "      <td>341</td>\n",
       "    </tr>\n",
       "    <tr>\n",
       "      <th>4</th>\n",
       "      <td>227</td>\n",
       "      <td>289</td>\n",
       "      <td>256</td>\n",
       "      <td>218</td>\n",
       "      <td>299</td>\n",
       "      <td>23</td>\n",
       "      <td>365</td>\n",
       "      <td>41</td>\n",
       "      <td>108</td>\n",
       "      <td>129</td>\n",
       "      <td>...</td>\n",
       "      <td>100</td>\n",
       "      <td>293</td>\n",
       "      <td>338</td>\n",
       "      <td>65</td>\n",
       "      <td>169</td>\n",
       "      <td>305</td>\n",
       "      <td>361</td>\n",
       "      <td>247</td>\n",
       "      <td>233</td>\n",
       "      <td>276</td>\n",
       "    </tr>\n",
       "  </tbody>\n",
       "</table>\n",
       "<p>5 rows × 23 columns</p>\n",
       "</div>"
      ],
      "text/plain": [
       "    0    1    2    3    4    5    6    7    8    9   ...   13   14   15   16  \\\n",
       "0   91  347  263  266  324  186  209  349  266  118  ...  229   27   27   46   \n",
       "1  180  143  298  115  110  251   66   86  118  265  ...  256  106  246  341   \n",
       "2   73  361   88  110  240  361   76  131  153    4  ...  305  297   36  122   \n",
       "3  309  224  327  165  321   82  190  138  325  263  ...  133  301  296  230   \n",
       "4  227  289  256  218  299   23  365   41  108  129  ...  100  293  338   65   \n",
       "\n",
       "    17   18   19   20   21   22  \n",
       "0  257  246  108   17   64  289  \n",
       "1  179  273  304   13  364  134  \n",
       "2  282   67  111   36   24  113  \n",
       "3   32  292  129  200  263  341  \n",
       "4  169  305  361  247  233  276  \n",
       "\n",
       "[5 rows x 23 columns]"
      ]
     },
     "execution_count": 66,
     "metadata": {},
     "output_type": "execute_result"
    }
   ],
   "source": [
    "bdays23_df = pd.DataFrame(data8)\n",
    "bdays23_df.head()"
   ]
  },
  {
   "cell_type": "code",
   "execution_count": 67,
   "metadata": {},
   "outputs": [
    {
     "data": {
      "text/plain": [
       "0       21\n",
       "1       23\n",
       "2       21\n",
       "3       22\n",
       "4       23\n",
       "        ..\n",
       "9995    21\n",
       "9996    21\n",
       "9997    23\n",
       "9998    22\n",
       "9999    22\n",
       "Length: 10000, dtype: int64"
      ]
     },
     "execution_count": 67,
     "metadata": {},
     "output_type": "execute_result"
    }
   ],
   "source": [
    "same_day23 = bdays23_df.nunique(axis = 1)\n",
    "same_day23"
   ]
  },
  {
   "cell_type": "code",
   "execution_count": 68,
   "metadata": {},
   "outputs": [
    {
     "data": {
      "text/plain": [
       "0.5166"
      ]
     },
     "execution_count": 68,
     "metadata": {},
     "output_type": "execute_result"
    }
   ],
   "source": [
    "same23 = (same_day23 < 23).mean()\n",
    "same23"
   ]
  },
  {
   "cell_type": "code",
   "execution_count": null,
   "metadata": {},
   "outputs": [],
   "source": []
  }
 ],
 "metadata": {
  "kernelspec": {
   "display_name": "Python 3",
   "language": "python",
   "name": "python3"
  },
  "language_info": {
   "codemirror_mode": {
    "name": "ipython",
    "version": 3
   },
   "file_extension": ".py",
   "mimetype": "text/x-python",
   "name": "python",
   "nbconvert_exporter": "python",
   "pygments_lexer": "ipython3",
   "version": "3.8.5"
  }
 },
 "nbformat": 4,
 "nbformat_minor": 4
}
